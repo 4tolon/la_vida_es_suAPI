{
 "cells": [
  {
   "cell_type": "code",
   "execution_count": 1,
   "id": "2a027e8d",
   "metadata": {},
   "outputs": [
    {
     "name": "stderr",
     "output_type": "stream",
     "text": [
      "[nltk_data] Downloading package vader_lexicon to\n",
      "[nltk_data]     /home/fer/nltk_data...\n",
      "[nltk_data]   Package vader_lexicon is already up-to-date!\n"
     ]
    }
   ],
   "source": [
    "import string\n",
    "import spacy\n",
    "#spacy.load('es_core_news_md')\n",
    "#spacy.load('en_core_web_sm')\n",
    "import es_core_news_md\n",
    "import en_core_web_sm\n",
    "\n",
    "\n",
    "from nltk.corpus import stopwords\n",
    "import re\n",
    "from textblob import TextBlob\n",
    "import nltk\n",
    "nltk.downloader.download('vader_lexicon')\n",
    "from nltk.sentiment.vader import SentimentIntensityAnalyzer\n",
    "\n"
   ]
  },
  {
   "cell_type": "code",
   "execution_count": null,
   "id": "b8103815",
   "metadata": {},
   "outputs": [],
   "source": []
  },
  {
   "cell_type": "code",
   "execution_count": 2,
   "id": "dba523ee",
   "metadata": {},
   "outputs": [],
   "source": [
    "import sys\n",
    "sys.path.append('../config')\n",
    "sys.path.append('../tools')\n",
    "import configuration\n",
    "import random\n",
    "import requests\n",
    "import sql_tool as sqt\n",
    "import flask"
   ]
  },
  {
   "cell_type": "code",
   "execution_count": 3,
   "id": "c299ef58",
   "metadata": {},
   "outputs": [
    {
     "data": {
      "text/plain": [
       "{'Content-Type': 'text/html; charset=utf-8', 'Content-Length': '46', 'Server': 'Werkzeug/2.0.2 Python/3.10.0', 'Date': 'Mon, 29 Nov 2021 16:33:53 GMT'}"
      ]
     },
     "execution_count": 3,
     "metadata": {},
     "output_type": "execute_result"
    }
   ],
   "source": [
    "requests.get(\"http://127.0.0.1:5000/\").headers"
   ]
  },
  {
   "cell_type": "code",
   "execution_count": 4,
   "id": "f6a68e7f",
   "metadata": {},
   "outputs": [],
   "source": [
    "inicio = requests.get(\"http://127.0.0.1:5000/\")"
   ]
  },
  {
   "cell_type": "code",
   "execution_count": 5,
   "id": "b142d7c8",
   "metadata": {},
   "outputs": [
    {
     "data": {
      "text/plain": [
       "<Response [200]>"
      ]
     },
     "execution_count": 5,
     "metadata": {},
     "output_type": "execute_result"
    }
   ],
   "source": [
    "inicio"
   ]
  },
  {
   "cell_type": "code",
   "execution_count": 6,
   "id": "e75c3fb2",
   "metadata": {},
   "outputs": [],
   "source": [
    "segundo = requests.get(\"http://127.0.0.1:5000/personajes\")"
   ]
  },
  {
   "cell_type": "code",
   "execution_count": 7,
   "id": "1886f10c",
   "metadata": {},
   "outputs": [
    {
     "data": {
      "text/plain": [
       "b'Estos son todos los personajes: ROSAURA, CLAR\\xc3\\x8dN, nan, SEGISMUNDO, CLOTALDO, TODOS, SOLDADOS, ASTOLFO, ESTRELLA, BASILIO, [CRIADO] 2.\\xc2\\xba, [CRIADO] 1.\\xc2\\xba, [SOLDADO] 1.\\xc2\\xba, [SOLDADO] 2.\\xc2\\xba, VOCES, UNOS, OTROS '"
      ]
     },
     "execution_count": 7,
     "metadata": {},
     "output_type": "execute_result"
    }
   ],
   "source": [
    "segundo.content"
   ]
  },
  {
   "cell_type": "code",
   "execution_count": 8,
   "id": "2f253bc7",
   "metadata": {},
   "outputs": [],
   "source": [
    "segundo = requests.get(\"http://127.0.0.1:5000/poem/ROSAURA\")"
   ]
  },
  {
   "cell_type": "code",
   "execution_count": 9,
   "id": "ec5f1a2b",
   "metadata": {},
   "outputs": [
    {
     "name": "stdout",
     "output_type": "stream",
     "text": [
      "b'ROSAURA dice: <iframe width=\"560\" height=\"315\" src=\"https://www.youtube.com/embed/O9y6iAOqUN0?controls=0&amp;start=518\" title=\"YouTube video player\" frameborder=\"0\" allow=\"accelerometer; autoplay; clipboard-write; encrypted-media; gyroscope; picture-in-picture\" allowfullscreen></iframe>     No tengo que prevenir\\nque en un var\\xc3\\xb3n singular,\\ncuanto es noble acci\\xc3\\xb3n el dar \\nes bajeza el recibir.\\n    Y este principio asentado,\\nno has de estarle agradecido,\\nsupuesto que si \\xc3\\xa9l ha sido\\nel que la vida te ha dado, \\n    y t\\xc3\\xba a m\\xc3\\xad, evidente cosa\\nes que \\xc3\\xa9l forz\\xc3\\xb3 tu nobleza\\na que hiciese una bajeza,\\ny yo una acci\\xc3\\xb3n generosa.\\n    Luego est\\xc3\\xa1s d\\xc3\\xa9l ofendido, \\nluego est\\xc3\\xa1s de m\\xc3\\xad obligado,\\nsupuesto que a m\\xc3\\xad me has dado\\nlo que d\\xc3\\xa9l has recibido;\\n    y as\\xc3\\xad debes acudir\\n\\na mi honor en riesgo tanto, \\npues yo le prefiero cuanto\\nva de dar a recibir.'\n"
     ]
    }
   ],
   "source": [
    "print(segundo.content)"
   ]
  },
  {
   "cell_type": "code",
   "execution_count": 10,
   "id": "c42dcde2",
   "metadata": {},
   "outputs": [],
   "source": [
    "segundo2 = requests.get(\"http://127.0.0.1:5000/poem/ROSAURA\")"
   ]
  },
  {
   "cell_type": "code",
   "execution_count": 11,
   "id": "6a3f39f2",
   "metadata": {},
   "outputs": [
    {
     "data": {
      "text/plain": [
       "b'ROSAURA dice: <iframe width=\"560\" height=\"315\" src=\"https://www.youtube.com/embed/O9y6iAOqUN0?controls=0&amp;start=518\" title=\"YouTube video player\" frameborder=\"0\" allow=\"accelerometer; autoplay; clipboard-write; encrypted-media; gyroscope; picture-in-picture\" allowfullscreen></iframe> Es honor.'"
      ]
     },
     "execution_count": 11,
     "metadata": {},
     "output_type": "execute_result"
    }
   ],
   "source": [
    "segundo2.content\n"
   ]
  },
  {
   "cell_type": "code",
   "execution_count": 12,
   "id": "8456e954",
   "metadata": {},
   "outputs": [],
   "source": [
    "nlp = spacy.load(\"en_core_web_sm\")"
   ]
  },
  {
   "cell_type": "code",
   "execution_count": 27,
   "id": "ed79f7cd",
   "metadata": {},
   "outputs": [],
   "source": [
    "nlp_es = spacy.load(\"es_core_news_md\")"
   ]
  },
  {
   "cell_type": "code",
   "execution_count": 29,
   "id": "6d9443a1",
   "metadata": {},
   "outputs": [],
   "source": [
    "prueba = \"sin comer solomillo\""
   ]
  },
  {
   "cell_type": "code",
   "execution_count": 30,
   "id": "c337c887",
   "metadata": {},
   "outputs": [],
   "source": [
    "prueba_nlp = nlp_es(prueba)"
   ]
  },
  {
   "cell_type": "code",
   "execution_count": 31,
   "id": "0f1daf6f",
   "metadata": {},
   "outputs": [
    {
     "data": {
      "text/plain": [
       "sin comer solomillo"
      ]
     },
     "execution_count": 31,
     "metadata": {},
     "output_type": "execute_result"
    }
   ],
   "source": [
    "prueba_nlp"
   ]
  },
  {
   "cell_type": "code",
   "execution_count": 32,
   "id": "87d88bda",
   "metadata": {},
   "outputs": [
    {
     "data": {
      "text/plain": [
       "'sin comer solomillo'"
      ]
     },
     "execution_count": 32,
     "metadata": {},
     "output_type": "execute_result"
    }
   ],
   "source": [
    "prueba"
   ]
  },
  {
   "cell_type": "code",
   "execution_count": 33,
   "id": "f946bec8",
   "metadata": {},
   "outputs": [],
   "source": [
    "stop = nlp.Defaults.stop_words"
   ]
  },
  {
   "cell_type": "code",
   "execution_count": 34,
   "id": "d7ed8304",
   "metadata": {},
   "outputs": [],
   "source": [
    "stop_es = nlp_es.Defaults.stop_words"
   ]
  },
  {
   "cell_type": "code",
   "execution_count": 36,
   "id": "a8a87e9a",
   "metadata": {},
   "outputs": [
    {
     "data": {
      "text/plain": [
       "{'actualmente',\n",
       " 'acuerdo',\n",
       " 'adelante',\n",
       " 'ademas',\n",
       " 'además',\n",
       " 'adrede',\n",
       " 'afirmó',\n",
       " 'agregó',\n",
       " 'ahi',\n",
       " 'ahora',\n",
       " 'ahí',\n",
       " 'al',\n",
       " 'algo',\n",
       " 'alguna',\n",
       " 'algunas',\n",
       " 'alguno',\n",
       " 'algunos',\n",
       " 'algún',\n",
       " 'alli',\n",
       " 'allí',\n",
       " 'alrededor',\n",
       " 'ambos',\n",
       " 'ampleamos',\n",
       " 'antano',\n",
       " 'antaño',\n",
       " 'ante',\n",
       " 'anterior',\n",
       " 'antes',\n",
       " 'apenas',\n",
       " 'aproximadamente',\n",
       " 'aquel',\n",
       " 'aquella',\n",
       " 'aquellas',\n",
       " 'aquello',\n",
       " 'aquellos',\n",
       " 'aqui',\n",
       " 'aquél',\n",
       " 'aquélla',\n",
       " 'aquéllas',\n",
       " 'aquéllos',\n",
       " 'aquí',\n",
       " 'arriba',\n",
       " 'arribaabajo',\n",
       " 'aseguró',\n",
       " 'asi',\n",
       " 'así',\n",
       " 'atras',\n",
       " 'aun',\n",
       " 'aunque',\n",
       " 'ayer',\n",
       " 'añadió',\n",
       " 'aún',\n",
       " 'bajo',\n",
       " 'bastante',\n",
       " 'bien',\n",
       " 'breve',\n",
       " 'buen',\n",
       " 'buena',\n",
       " 'buenas',\n",
       " 'bueno',\n",
       " 'buenos',\n",
       " 'cada',\n",
       " 'casi',\n",
       " 'cerca',\n",
       " 'cierta',\n",
       " 'ciertas',\n",
       " 'cierto',\n",
       " 'ciertos',\n",
       " 'cinco',\n",
       " 'claro',\n",
       " 'comentó',\n",
       " 'como',\n",
       " 'con',\n",
       " 'conmigo',\n",
       " 'conocer',\n",
       " 'conseguimos',\n",
       " 'conseguir',\n",
       " 'considera',\n",
       " 'consideró',\n",
       " 'consigo',\n",
       " 'consigue',\n",
       " 'consiguen',\n",
       " 'consigues',\n",
       " 'contigo',\n",
       " 'contra',\n",
       " 'cosas',\n",
       " 'creo',\n",
       " 'cual',\n",
       " 'cuales',\n",
       " 'cualquier',\n",
       " 'cuando',\n",
       " 'cuanta',\n",
       " 'cuantas',\n",
       " 'cuanto',\n",
       " 'cuantos',\n",
       " 'cuatro',\n",
       " 'cuenta',\n",
       " 'cuál',\n",
       " 'cuáles',\n",
       " 'cuándo',\n",
       " 'cuánta',\n",
       " 'cuántas',\n",
       " 'cuánto',\n",
       " 'cuántos',\n",
       " 'cómo',\n",
       " 'da',\n",
       " 'dado',\n",
       " 'dan',\n",
       " 'dar',\n",
       " 'de',\n",
       " 'debajo',\n",
       " 'debe',\n",
       " 'deben',\n",
       " 'debido',\n",
       " 'decir',\n",
       " 'dejó',\n",
       " 'del',\n",
       " 'delante',\n",
       " 'demasiado',\n",
       " 'demás',\n",
       " 'dentro',\n",
       " 'deprisa',\n",
       " 'desde',\n",
       " 'despacio',\n",
       " 'despues',\n",
       " 'después',\n",
       " 'detras',\n",
       " 'detrás',\n",
       " 'dia',\n",
       " 'dias',\n",
       " 'dice',\n",
       " 'dicen',\n",
       " 'dicho',\n",
       " 'dieron',\n",
       " 'diferente',\n",
       " 'diferentes',\n",
       " 'dijeron',\n",
       " 'dijo',\n",
       " 'dio',\n",
       " 'donde',\n",
       " 'dos',\n",
       " 'durante',\n",
       " 'día',\n",
       " 'días',\n",
       " 'dónde',\n",
       " 'ejemplo',\n",
       " 'el',\n",
       " 'ella',\n",
       " 'ellas',\n",
       " 'ello',\n",
       " 'ellos',\n",
       " 'embargo',\n",
       " 'empleais',\n",
       " 'emplean',\n",
       " 'emplear',\n",
       " 'empleas',\n",
       " 'empleo',\n",
       " 'en',\n",
       " 'encima',\n",
       " 'encuentra',\n",
       " 'enfrente',\n",
       " 'enseguida',\n",
       " 'entonces',\n",
       " 'entre',\n",
       " 'era',\n",
       " 'eramos',\n",
       " 'eran',\n",
       " 'eras',\n",
       " 'eres',\n",
       " 'es',\n",
       " 'esa',\n",
       " 'esas',\n",
       " 'ese',\n",
       " 'eso',\n",
       " 'esos',\n",
       " 'esta',\n",
       " 'estaba',\n",
       " 'estaban',\n",
       " 'estado',\n",
       " 'estados',\n",
       " 'estais',\n",
       " 'estamos',\n",
       " 'estan',\n",
       " 'estar',\n",
       " 'estará',\n",
       " 'estas',\n",
       " 'este',\n",
       " 'esto',\n",
       " 'estos',\n",
       " 'estoy',\n",
       " 'estuvo',\n",
       " 'está',\n",
       " 'están',\n",
       " 'ex',\n",
       " 'excepto',\n",
       " 'existe',\n",
       " 'existen',\n",
       " 'explicó',\n",
       " 'expresó',\n",
       " 'fin',\n",
       " 'final',\n",
       " 'fue',\n",
       " 'fuera',\n",
       " 'fueron',\n",
       " 'fui',\n",
       " 'fuimos',\n",
       " 'general',\n",
       " 'gran',\n",
       " 'grandes',\n",
       " 'gueno',\n",
       " 'ha',\n",
       " 'haber',\n",
       " 'habia',\n",
       " 'habla',\n",
       " 'hablan',\n",
       " 'habrá',\n",
       " 'había',\n",
       " 'habían',\n",
       " 'hace',\n",
       " 'haceis',\n",
       " 'hacemos',\n",
       " 'hacen',\n",
       " 'hacer',\n",
       " 'hacerlo',\n",
       " 'haces',\n",
       " 'hacia',\n",
       " 'haciendo',\n",
       " 'hago',\n",
       " 'han',\n",
       " 'hasta',\n",
       " 'hay',\n",
       " 'haya',\n",
       " 'he',\n",
       " 'hecho',\n",
       " 'hemos',\n",
       " 'hicieron',\n",
       " 'hizo',\n",
       " 'horas',\n",
       " 'hoy',\n",
       " 'hubo',\n",
       " 'igual',\n",
       " 'incluso',\n",
       " 'indicó',\n",
       " 'informo',\n",
       " 'informó',\n",
       " 'intenta',\n",
       " 'intentais',\n",
       " 'intentamos',\n",
       " 'intentan',\n",
       " 'intentar',\n",
       " 'intentas',\n",
       " 'intento',\n",
       " 'ir',\n",
       " 'junto',\n",
       " 'la',\n",
       " 'lado',\n",
       " 'largo',\n",
       " 'las',\n",
       " 'le',\n",
       " 'lejos',\n",
       " 'les',\n",
       " 'llegó',\n",
       " 'lleva',\n",
       " 'llevar',\n",
       " 'lo',\n",
       " 'los',\n",
       " 'luego',\n",
       " 'lugar',\n",
       " 'mal',\n",
       " 'manera',\n",
       " 'manifestó',\n",
       " 'mas',\n",
       " 'mayor',\n",
       " 'me',\n",
       " 'mediante',\n",
       " 'medio',\n",
       " 'mejor',\n",
       " 'mencionó',\n",
       " 'menos',\n",
       " 'menudo',\n",
       " 'mi',\n",
       " 'mia',\n",
       " 'mias',\n",
       " 'mientras',\n",
       " 'mio',\n",
       " 'mios',\n",
       " 'mis',\n",
       " 'misma',\n",
       " 'mismas',\n",
       " 'mismo',\n",
       " 'mismos',\n",
       " 'modo',\n",
       " 'momento',\n",
       " 'mucha',\n",
       " 'muchas',\n",
       " 'mucho',\n",
       " 'muchos',\n",
       " 'muy',\n",
       " 'más',\n",
       " 'mí',\n",
       " 'mía',\n",
       " 'mías',\n",
       " 'mío',\n",
       " 'míos',\n",
       " 'nada',\n",
       " 'nadie',\n",
       " 'ni',\n",
       " 'ninguna',\n",
       " 'ningunas',\n",
       " 'ninguno',\n",
       " 'ningunos',\n",
       " 'ningún',\n",
       " 'no',\n",
       " 'nos',\n",
       " 'nosotras',\n",
       " 'nosotros',\n",
       " 'nuestra',\n",
       " 'nuestras',\n",
       " 'nuestro',\n",
       " 'nuestros',\n",
       " 'nueva',\n",
       " 'nuevas',\n",
       " 'nuevo',\n",
       " 'nuevos',\n",
       " 'nunca',\n",
       " 'ocho',\n",
       " 'os',\n",
       " 'otra',\n",
       " 'otras',\n",
       " 'otro',\n",
       " 'otros',\n",
       " 'pais',\n",
       " 'para',\n",
       " 'parece',\n",
       " 'parte',\n",
       " 'partir',\n",
       " 'pasada',\n",
       " 'pasado',\n",
       " 'paìs',\n",
       " 'peor',\n",
       " 'pero',\n",
       " 'pesar',\n",
       " 'poca',\n",
       " 'pocas',\n",
       " 'poco',\n",
       " 'pocos',\n",
       " 'podeis',\n",
       " 'podemos',\n",
       " 'poder',\n",
       " 'podria',\n",
       " 'podriais',\n",
       " 'podriamos',\n",
       " 'podrian',\n",
       " 'podrias',\n",
       " 'podrá',\n",
       " 'podrán',\n",
       " 'podría',\n",
       " 'podrían',\n",
       " 'poner',\n",
       " 'por',\n",
       " 'porque',\n",
       " 'posible',\n",
       " 'primer',\n",
       " 'primera',\n",
       " 'primero',\n",
       " 'primeros',\n",
       " 'principalmente',\n",
       " 'pronto',\n",
       " 'propia',\n",
       " 'propias',\n",
       " 'propio',\n",
       " 'propios',\n",
       " 'proximo',\n",
       " 'próximo',\n",
       " 'próximos',\n",
       " 'pudo',\n",
       " 'pueda',\n",
       " 'puede',\n",
       " 'pueden',\n",
       " 'puedo',\n",
       " 'pues',\n",
       " 'qeu',\n",
       " 'que',\n",
       " 'quedó',\n",
       " 'queremos',\n",
       " 'quien',\n",
       " 'quienes',\n",
       " 'quiere',\n",
       " 'quiza',\n",
       " 'quizas',\n",
       " 'quizá',\n",
       " 'quizás',\n",
       " 'quién',\n",
       " 'quiénes',\n",
       " 'qué',\n",
       " 'raras',\n",
       " 'realizado',\n",
       " 'realizar',\n",
       " 'realizó',\n",
       " 'repente',\n",
       " 'respecto',\n",
       " 'sabe',\n",
       " 'sabeis',\n",
       " 'sabemos',\n",
       " 'saben',\n",
       " 'saber',\n",
       " 'sabes',\n",
       " 'salvo',\n",
       " 'se',\n",
       " 'sea',\n",
       " 'sean',\n",
       " 'segun',\n",
       " 'segunda',\n",
       " 'segundo',\n",
       " 'según',\n",
       " 'seis',\n",
       " 'ser',\n",
       " 'sera',\n",
       " 'será',\n",
       " 'serán',\n",
       " 'sería',\n",
       " 'señaló',\n",
       " 'si',\n",
       " 'sido',\n",
       " 'siempre',\n",
       " 'siendo',\n",
       " 'siete',\n",
       " 'sigue',\n",
       " 'siguiente',\n",
       " 'sin',\n",
       " 'sino',\n",
       " 'sobre',\n",
       " 'sois',\n",
       " 'sola',\n",
       " 'solamente',\n",
       " 'solas',\n",
       " 'solo',\n",
       " 'solos',\n",
       " 'somos',\n",
       " 'son',\n",
       " 'soy',\n",
       " 'soyos',\n",
       " 'su',\n",
       " 'supuesto',\n",
       " 'sus',\n",
       " 'suya',\n",
       " 'suyas',\n",
       " 'suyo',\n",
       " 'sé',\n",
       " 'sí',\n",
       " 'sólo',\n",
       " 'tal',\n",
       " 'tambien',\n",
       " 'también',\n",
       " 'tampoco',\n",
       " 'tan',\n",
       " 'tanto',\n",
       " 'tarde',\n",
       " 'te',\n",
       " 'temprano',\n",
       " 'tendrá',\n",
       " 'tendrán',\n",
       " 'teneis',\n",
       " 'tenemos',\n",
       " 'tener',\n",
       " 'tenga',\n",
       " 'tengo',\n",
       " 'tenido',\n",
       " 'tenía',\n",
       " 'tercera',\n",
       " 'ti',\n",
       " 'tiempo',\n",
       " 'tiene',\n",
       " 'tienen',\n",
       " 'toda',\n",
       " 'todas',\n",
       " 'todavia',\n",
       " 'todavía',\n",
       " 'todo',\n",
       " 'todos',\n",
       " 'total',\n",
       " 'trabaja',\n",
       " 'trabajais',\n",
       " 'trabajamos',\n",
       " 'trabajan',\n",
       " 'trabajar',\n",
       " 'trabajas',\n",
       " 'trabajo',\n",
       " 'tras',\n",
       " 'trata',\n",
       " 'través',\n",
       " 'tres',\n",
       " 'tu',\n",
       " 'tus',\n",
       " 'tuvo',\n",
       " 'tuya',\n",
       " 'tuyas',\n",
       " 'tuyo',\n",
       " 'tuyos',\n",
       " 'tú',\n",
       " 'ultimo',\n",
       " 'un',\n",
       " 'una',\n",
       " 'unas',\n",
       " 'uno',\n",
       " 'unos',\n",
       " 'usa',\n",
       " 'usais',\n",
       " 'usamos',\n",
       " 'usan',\n",
       " 'usar',\n",
       " 'usas',\n",
       " 'uso',\n",
       " 'usted',\n",
       " 'ustedes',\n",
       " 'va',\n",
       " 'vais',\n",
       " 'valor',\n",
       " 'vamos',\n",
       " 'van',\n",
       " 'varias',\n",
       " 'varios',\n",
       " 'vaya',\n",
       " 'veces',\n",
       " 'ver',\n",
       " 'verdad',\n",
       " 'verdadera',\n",
       " 'verdadero',\n",
       " 'vez',\n",
       " 'vosotras',\n",
       " 'vosotros',\n",
       " 'voy',\n",
       " 'vuestra',\n",
       " 'vuestras',\n",
       " 'vuestro',\n",
       " 'vuestros',\n",
       " 'ya',\n",
       " 'yo',\n",
       " 'él',\n",
       " 'ésa',\n",
       " 'ésas',\n",
       " 'ése',\n",
       " 'ésos',\n",
       " 'ésta',\n",
       " 'éstas',\n",
       " 'éste',\n",
       " 'éstos',\n",
       " 'última',\n",
       " 'últimas',\n",
       " 'último',\n",
       " 'últimos'}"
      ]
     },
     "execution_count": 36,
     "metadata": {},
     "output_type": "execute_result"
    }
   ],
   "source": [
    "stop_es"
   ]
  },
  {
   "cell_type": "code",
   "execution_count": 44,
   "id": "510c75bb",
   "metadata": {},
   "outputs": [],
   "source": [
    "def tokenizer(txt):\n",
    "    nlp = spacy.load(\"es_core_news_md\")\n",
    "    tokens = nlp(txt)\n",
    "    filtradas = []\n",
    "    for token in tokens:\n",
    "        if not token.is_stop:\n",
    "            lemma = token.lemma_.lower().strip()\n",
    "            if re.search('^[a-zA-Z]+$',lemma): # Esto me quita las interrogaciones\n",
    "                filtradas.append(lemma)\n",
    "    return \" \".join(filtradas)"
   ]
  },
  {
   "cell_type": "code",
   "execution_count": 45,
   "id": "91eb22f4",
   "metadata": {},
   "outputs": [
    {
     "data": {
      "text/plain": [
       "b'ROSAURA dice: Pues cuando ese veneno,\\nde furia, de rigor y sa\\xc3\\xb1a lleno, \\nla paciencia venciera,\\nmi respeto no osara, ni pudiera.'"
      ]
     },
     "execution_count": 45,
     "metadata": {},
     "output_type": "execute_result"
    }
   ],
   "source": [
    "segundo2.content"
   ]
  },
  {
   "cell_type": "code",
   "execution_count": 47,
   "id": "6a3fc6f3",
   "metadata": {},
   "outputs": [],
   "source": [
    "dd = tokenizer(str(segundo2.content))"
   ]
  },
  {
   "cell_type": "code",
   "execution_count": 48,
   "id": "d9623d7f",
   "metadata": {},
   "outputs": [
    {
     "data": {
      "text/plain": [
       "'furia rigor y lleno paciencia respeto osar pudiera'"
      ]
     },
     "execution_count": 48,
     "metadata": {},
     "output_type": "execute_result"
    }
   ],
   "source": [
    "dd"
   ]
  },
  {
   "cell_type": "code",
   "execution_count": 14,
   "id": "dac14256",
   "metadata": {},
   "outputs": [
    {
     "data": {
      "text/plain": [
       "b'ROSAURA dice: <iframe width=\"560\" height=\"315\" src=\"https://www.youtube.com/embed/O9y6iAOqUN0?controls=0&amp;start=518\" title=\"YouTube video player\" frameborder=\"0\" allow=\"accelerometer; autoplay; clipboard-write; encrypted-media; gyroscope; picture-in-picture\" allowfullscreen></iframe>  (Aparte.) \\nYo, esta pompa, esta grandeza\\nhe visto reducida\\na una estrecha prisi\\xc3\\xb3n.'"
      ]
     },
     "execution_count": 14,
     "metadata": {},
     "output_type": "execute_result"
    }
   ],
   "source": [
    "requests.get(\"http://127.0.0.1:5000/poem/ROSAURA\").content\n"
   ]
  },
  {
   "cell_type": "code",
   "execution_count": null,
   "id": "e42727af",
   "metadata": {},
   "outputs": [],
   "source": []
  },
  {
   "cell_type": "code",
   "execution_count": null,
   "id": "b7aac3db",
   "metadata": {},
   "outputs": [],
   "source": []
  },
  {
   "cell_type": "code",
   "execution_count": null,
   "id": "2e98b699",
   "metadata": {},
   "outputs": [],
   "source": [
    "def random_poem(personaje):\n",
    "    \"\"\"\n",
    "    hace una seleccion del id de un personaje que se pide\n",
    "    te devuelve una frase random de ese personaje\n",
    "    \"\"\"\n",
    "    idperso = list(engine.execute(f\"SELECT idPersonaje FROM personaje WHERE nombre ='{personaje}';\"))[0][0]\n",
    "    que = list(engine.execute(f\"SELECT texto FROM obra WHERE idPersonaje ='{idperso}';\"))\n",
    "\n",
    "    return random.choice(que)\n",
    "\n",
    "\n"
   ]
  },
  {
   "cell_type": "code",
   "execution_count": null,
   "id": "bd4103c9",
   "metadata": {},
   "outputs": [],
   "source": [
    "def personajes():\n",
    "    \"\"\"\n",
    "    hace una selección los nombres de personajes en la tabla personajes de mysql\n",
    "    \"\"\"\n",
    "    query = list(engine.execute(\"SELECT distinct(nombre) FROM LaVidaEsSueno.personaje;\"))\n",
    "    return [q[0] for q in query]"
   ]
  },
  {
   "cell_type": "code",
   "execution_count": null,
   "id": "cd8ef715",
   "metadata": {},
   "outputs": [],
   "source": [
    "def random_poem(personaje):\n",
    "    \"\"\"\n",
    "    hace una seleccion del id de un personaje que se pide\n",
    "    te devuelve una frase random de ese personaje\n",
    "    \"\"\"\n",
    "    idperso = list(engine.execute(f\"SELECT idPersonaje FROM personaje WHERE nombre ='{personaje}';\"))[0][0]\n",
    "    que = list(engine.execute(f\"SELECT texto FROM obra WHERE idPersonaje ='{idperso}';\"))\n",
    "\n",
    "    return random.choice(que)"
   ]
  },
  {
   "cell_type": "code",
   "execution_count": null,
   "id": "3c5a5cad",
   "metadata": {},
   "outputs": [],
   "source": [
    "def long_poem(personaje):\n",
    "    \"\"\"\n",
    "    hace una seleccion del id de un personaje que se pide\n",
    "    te devuelve el poema más largo de ese personaje\n",
    "    \"\"\"\n",
    "    idperso = list(engine.execute(f\"SELECT idPersonaje FROM personaje WHERE nombre ='{personaje}';\"))[0][0]\n",
    "    que = list(engine.execute(f\"SELECT texto FROM obra WHERE idPersonaje ='{idperso}';\"))\n",
    "    \n",
    "\n",
    "    return random.choice(que)"
   ]
  },
  {
   "cell_type": "code",
   "execution_count": null,
   "id": "9319132e",
   "metadata": {},
   "outputs": [],
   "source": []
  },
  {
   "cell_type": "code",
   "execution_count": null,
   "id": "4afe74e8",
   "metadata": {},
   "outputs": [],
   "source": []
  },
  {
   "cell_type": "code",
   "execution_count": null,
   "id": "39063355",
   "metadata": {},
   "outputs": [],
   "source": []
  },
  {
   "cell_type": "code",
   "execution_count": null,
   "id": "29027f59",
   "metadata": {},
   "outputs": [],
   "source": []
  },
  {
   "cell_type": "code",
   "execution_count": null,
   "id": "f1ab983c",
   "metadata": {},
   "outputs": [],
   "source": []
  }
 ],
 "metadata": {
  "kernelspec": {
   "display_name": "minimal_ds",
   "language": "python",
   "name": "minimal_ds"
  },
  "language_info": {
   "codemirror_mode": {
    "name": "ipython",
    "version": 3
   },
   "file_extension": ".py",
   "mimetype": "text/x-python",
   "name": "python",
   "nbconvert_exporter": "python",
   "pygments_lexer": "ipython3",
   "version": "3.10.0"
  },
  "toc": {
   "base_numbering": 1,
   "nav_menu": {},
   "number_sections": true,
   "sideBar": true,
   "skip_h1_title": false,
   "title_cell": "Table of Contents",
   "title_sidebar": "Contents",
   "toc_cell": false,
   "toc_position": {},
   "toc_section_display": true,
   "toc_window_display": false
  }
 },
 "nbformat": 4,
 "nbformat_minor": 5
}
