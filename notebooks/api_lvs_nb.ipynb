{
 "cells": [
  {
   "cell_type": "code",
   "execution_count": null,
   "id": "a083a7da",
   "metadata": {},
   "outputs": [],
   "source": []
  },
  {
   "cell_type": "code",
   "execution_count": null,
   "id": "5a505888",
   "metadata": {},
   "outputs": [],
   "source": []
  },
  {
   "cell_type": "code",
   "execution_count": null,
   "id": "869c0bf6",
   "metadata": {},
   "outputs": [],
   "source": [
    "from config.configuration import engine\n",
    "import random\n",
    "import sqltools as sqt"
   ]
  },
  {
   "cell_type": "code",
   "execution_count": null,
   "id": "b62d4946",
   "metadata": {},
   "outputs": [],
   "source": [
    "def personajes():\n",
    "    \"\"\"\n",
    "    hace una selección los nombres de personajes en la tabla personajes de mysql\n",
    "    \"\"\"\n",
    "    query = list(engine.execute(\"SELECT distinct(nombre) FROM LaVidaEsSueno.personaje;\"))\n",
    "    return [q[0] for q in query]"
   ]
  },
  {
   "cell_type": "code",
   "execution_count": null,
   "id": "5ce19715",
   "metadata": {},
   "outputs": [],
   "source": [
    "def random_poem(personaje):\n",
    "    \"\"\"\n",
    "    hace una seleccion del id de un personaje que se pide\n",
    "    te devuelve una frase random de ese personaje\n",
    "    \"\"\"\n",
    "    idperso = list(engine.execute(f\"SELECT idPersonaje FROM personaje WHERE nombre ='{personaje}';\"))[0][0]\n",
    "    que = list(engine.execute(f\"SELECT texto FROM obra WHERE idPersonaje ='{idperso}';\"))\n",
    "\n",
    "    return random.choice(que)"
   ]
  },
  {
   "cell_type": "code",
   "execution_count": null,
   "id": "c84222aa",
   "metadata": {},
   "outputs": [],
   "source": [
    "def long_poem(personaje):\n",
    "    \"\"\"\n",
    "    hace una seleccion del id de un personaje que se pide\n",
    "    te devuelve el poema más largo de ese personaje\n",
    "    \"\"\"\n",
    "    idperso = list(engine.execute(f\"SELECT idPersonaje FROM personaje WHERE nombre ='{personaje}';\"))[0][0]\n",
    "    que = list(engine.execute(f\"SELECT texto FROM obra WHERE idPersonaje ='{idperso}';\"))\n",
    "    \n",
    "\n",
    "    return random.choice(que)"
   ]
  },
  {
   "cell_type": "code",
   "execution_count": null,
   "id": "e99ff6c5",
   "metadata": {},
   "outputs": [],
   "source": []
  },
  {
   "cell_type": "code",
   "execution_count": null,
   "id": "22fdded6",
   "metadata": {},
   "outputs": [],
   "source": []
  },
  {
   "cell_type": "code",
   "execution_count": null,
   "id": "b3009d43",
   "metadata": {},
   "outputs": [],
   "source": []
  },
  {
   "cell_type": "code",
   "execution_count": null,
   "id": "78917a1e",
   "metadata": {},
   "outputs": [],
   "source": []
  },
  {
   "cell_type": "code",
   "execution_count": null,
   "id": "e42614a4",
   "metadata": {},
   "outputs": [],
   "source": []
  }
 ],
 "metadata": {
  "kernelspec": {
   "display_name": "minimal_ds",
   "language": "python",
   "name": "minimal_ds"
  },
  "language_info": {
   "codemirror_mode": {
    "name": "ipython",
    "version": 3
   },
   "file_extension": ".py",
   "mimetype": "text/x-python",
   "name": "python",
   "nbconvert_exporter": "python",
   "pygments_lexer": "ipython3",
   "version": "3.10.0"
  },
  "toc": {
   "base_numbering": 1,
   "nav_menu": {},
   "number_sections": true,
   "sideBar": true,
   "skip_h1_title": false,
   "title_cell": "Table of Contents",
   "title_sidebar": "Contents",
   "toc_cell": false,
   "toc_position": {},
   "toc_section_display": true,
   "toc_window_display": false
  }
 },
 "nbformat": 4,
 "nbformat_minor": 5
}
