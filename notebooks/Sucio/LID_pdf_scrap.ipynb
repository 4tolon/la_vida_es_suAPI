{
 "cells": [
  {
   "cell_type": "code",
   "execution_count": 1,
   "id": "142fffdd",
   "metadata": {},
   "outputs": [
    {
     "data": {
      "text/plain": [
       "True"
      ]
     },
     "execution_count": 1,
     "metadata": {},
     "output_type": "execute_result"
    }
   ],
   "source": [
    "import pandas as pd\n",
    "import os\n",
    "import sys\n",
    "import time\n",
    "from dotenv import load_dotenv\n",
    "load_dotenv()"
   ]
  },
  {
   "cell_type": "code",
   "execution_count": 2,
   "id": "ec772666",
   "metadata": {},
   "outputs": [],
   "source": [
    "from googletrans import Translator"
   ]
  },
  {
   "cell_type": "code",
   "execution_count": 6,
   "id": "b6f362c0",
   "metadata": {},
   "outputs": [
    {
     "data": {
      "text/html": [
       "<div>\n",
       "<style scoped>\n",
       "    .dataframe tbody tr th:only-of-type {\n",
       "        vertical-align: middle;\n",
       "    }\n",
       "\n",
       "    .dataframe tbody tr th {\n",
       "        vertical-align: top;\n",
       "    }\n",
       "\n",
       "    .dataframe thead th {\n",
       "        text-align: right;\n",
       "    }\n",
       "</style>\n",
       "<table border=\"1\" class=\"dataframe\">\n",
       "  <thead>\n",
       "    <tr style=\"text-align: right;\">\n",
       "      <th></th>\n",
       "      <th>index</th>\n",
       "      <th>personaje</th>\n",
       "      <th>texto</th>\n",
       "      <th>jornada</th>\n",
       "      <th>versos</th>\n",
       "      <th>n_versos</th>\n",
       "    </tr>\n",
       "  </thead>\n",
       "  <tbody>\n",
       "    <tr>\n",
       "      <th>0</th>\n",
       "      <td>0</td>\n",
       "      <td>ROSAURA</td>\n",
       "      <td>Hipogrifo violento,\\nque corriste parejas con ...</td>\n",
       "      <td>1</td>\n",
       "      <td>['Hipogrifo violento,', 'que corriste parejas ...</td>\n",
       "      <td>22</td>\n",
       "    </tr>\n",
       "    <tr>\n",
       "      <th>1</th>\n",
       "      <td>1</td>\n",
       "      <td>CLARÍN</td>\n",
       "      <td>Di dos, y no me dejes\\nen la posada a mí cuand...</td>\n",
       "      <td>1</td>\n",
       "      <td>['Di dos, y no me dejes', 'en la posada a mí c...</td>\n",
       "      <td>10</td>\n",
       "    </tr>\n",
       "    <tr>\n",
       "      <th>2</th>\n",
       "      <td>2</td>\n",
       "      <td>ROSAURA</td>\n",
       "      <td>No quise darte parte\\nen mis quejas, Clarín, p...</td>\n",
       "      <td>1</td>\n",
       "      <td>['No quise darte parte', 'en mis quejas, Clarí...</td>\n",
       "      <td>8</td>\n",
       "    </tr>\n",
       "    <tr>\n",
       "      <th>3</th>\n",
       "      <td>3</td>\n",
       "      <td>CLARÍN</td>\n",
       "      <td>El filósofo era\\nun borracho barbón. ¡Oh, quié...</td>\n",
       "      <td>1</td>\n",
       "      <td>['El filósofo era', 'un borracho barbón. ¡Oh, ...</td>\n",
       "      <td>8</td>\n",
       "    </tr>\n",
       "    <tr>\n",
       "      <th>4</th>\n",
       "      <td>4</td>\n",
       "      <td>ROSAURA</td>\n",
       "      <td>¡Quién ha visto sucesos tan extraños!\\nMas si ...</td>\n",
       "      <td>1</td>\n",
       "      <td>['¡Quién ha visto sucesos tan extraños!', 'Mas...</td>\n",
       "      <td>6</td>\n",
       "    </tr>\n",
       "    <tr>\n",
       "      <th>...</th>\n",
       "      <td>...</td>\n",
       "      <td>...</td>\n",
       "      <td>...</td>\n",
       "      <td>...</td>\n",
       "      <td>...</td>\n",
       "      <td>...</td>\n",
       "    </tr>\n",
       "    <tr>\n",
       "      <th>486</th>\n",
       "      <td>486</td>\n",
       "      <td>SEGISMUNDO</td>\n",
       "      <td>La torre; y porque no salgas \\ndella nunca has...</td>\n",
       "      <td>3</td>\n",
       "      <td>['La torre; y porque no salgas ', 'della nunca...</td>\n",
       "      <td>5</td>\n",
       "    </tr>\n",
       "    <tr>\n",
       "      <th>487</th>\n",
       "      <td>487</td>\n",
       "      <td>BASILIO</td>\n",
       "      <td>Tu ingenio a todos admira.</td>\n",
       "      <td>3</td>\n",
       "      <td>['Tu ingenio a todos admira. ']</td>\n",
       "      <td>1</td>\n",
       "    </tr>\n",
       "    <tr>\n",
       "      <th>488</th>\n",
       "      <td>488</td>\n",
       "      <td>ASTOLFO</td>\n",
       "      <td>¡Qué condición tan mudada!</td>\n",
       "      <td>3</td>\n",
       "      <td>['¡Qué condición tan mudada!']</td>\n",
       "      <td>1</td>\n",
       "    </tr>\n",
       "    <tr>\n",
       "      <th>489</th>\n",
       "      <td>489</td>\n",
       "      <td>ROSAURA</td>\n",
       "      <td>¡Qué discreto y qué prudente!</td>\n",
       "      <td>3</td>\n",
       "      <td>['¡Qué discreto y qué prudente!']</td>\n",
       "      <td>1</td>\n",
       "    </tr>\n",
       "    <tr>\n",
       "      <th>490</th>\n",
       "      <td>490</td>\n",
       "      <td>SEGISMUNDO</td>\n",
       "      <td>¿Qué os admira? ¿Qué os espanta,\\nsi fue mi ma...</td>\n",
       "      <td>3</td>\n",
       "      <td>['¿Qué os admira? ¿Qué os espanta,', 'si fue m...</td>\n",
       "      <td>15</td>\n",
       "    </tr>\n",
       "  </tbody>\n",
       "</table>\n",
       "<p>491 rows × 6 columns</p>\n",
       "</div>"
      ],
      "text/plain": [
       "     index   personaje                                              texto  \\\n",
       "0        0     ROSAURA  Hipogrifo violento,\\nque corriste parejas con ...   \n",
       "1        1      CLARÍN  Di dos, y no me dejes\\nen la posada a mí cuand...   \n",
       "2        2     ROSAURA  No quise darte parte\\nen mis quejas, Clarín, p...   \n",
       "3        3      CLARÍN  El filósofo era\\nun borracho barbón. ¡Oh, quié...   \n",
       "4        4     ROSAURA  ¡Quién ha visto sucesos tan extraños!\\nMas si ...   \n",
       "..     ...         ...                                                ...   \n",
       "486    486  SEGISMUNDO  La torre; y porque no salgas \\ndella nunca has...   \n",
       "487    487     BASILIO                        Tu ingenio a todos admira.    \n",
       "488    488     ASTOLFO                         ¡Qué condición tan mudada!   \n",
       "489    489     ROSAURA                      ¡Qué discreto y qué prudente!   \n",
       "490    490  SEGISMUNDO  ¿Qué os admira? ¿Qué os espanta,\\nsi fue mi ma...   \n",
       "\n",
       "     jornada                                             versos  n_versos  \n",
       "0          1  ['Hipogrifo violento,', 'que corriste parejas ...        22  \n",
       "1          1  ['Di dos, y no me dejes', 'en la posada a mí c...        10  \n",
       "2          1  ['No quise darte parte', 'en mis quejas, Clarí...         8  \n",
       "3          1  ['El filósofo era', 'un borracho barbón. ¡Oh, ...         8  \n",
       "4          1  ['¡Quién ha visto sucesos tan extraños!', 'Mas...         6  \n",
       "..       ...                                                ...       ...  \n",
       "486        3  ['La torre; y porque no salgas ', 'della nunca...         5  \n",
       "487        3                    ['Tu ingenio a todos admira. ']         1  \n",
       "488        3                     ['¡Qué condición tan mudada!']         1  \n",
       "489        3                  ['¡Qué discreto y qué prudente!']         1  \n",
       "490        3  ['¿Qué os admira? ¿Qué os espanta,', 'si fue m...        15  \n",
       "\n",
       "[491 rows x 6 columns]"
      ]
     },
     "execution_count": 6,
     "metadata": {},
     "output_type": "execute_result"
    }
   ],
   "source": [
    "df = pd.read_csv('../data/df_total.csv')\n",
    "df.reset_index()"
   ]
  },
  {
   "cell_type": "code",
   "execution_count": 5,
   "id": "915b6610",
   "metadata": {},
   "outputs": [
    {
     "data": {
      "text/html": [
       "<div>\n",
       "<style scoped>\n",
       "    .dataframe tbody tr th:only-of-type {\n",
       "        vertical-align: middle;\n",
       "    }\n",
       "\n",
       "    .dataframe tbody tr th {\n",
       "        vertical-align: top;\n",
       "    }\n",
       "\n",
       "    .dataframe thead th {\n",
       "        text-align: right;\n",
       "    }\n",
       "</style>\n",
       "<table border=\"1\" class=\"dataframe\">\n",
       "  <thead>\n",
       "    <tr style=\"text-align: right;\">\n",
       "      <th></th>\n",
       "      <th>personaje</th>\n",
       "      <th>texto</th>\n",
       "      <th>jornada</th>\n",
       "      <th>versos</th>\n",
       "      <th>n_versos</th>\n",
       "    </tr>\n",
       "  </thead>\n",
       "  <tbody>\n",
       "    <tr>\n",
       "      <th>407</th>\n",
       "      <td>CLOTALDO</td>\n",
       "      <td>...tu rey, y esposo de Estrella.</td>\n",
       "      <td>3</td>\n",
       "      <td>['...tu rey, y esposo de Estrella.']</td>\n",
       "      <td>1</td>\n",
       "    </tr>\n",
       "    <tr>\n",
       "      <th>61</th>\n",
       "      <td>ASTOLFO</td>\n",
       "      <td>Muy mal informada estáis, \\nEstrella, pues...</td>\n",
       "      <td>1</td>\n",
       "      <td>['    Muy mal informada estáis, ', 'Estrella, ...</td>\n",
       "      <td>55</td>\n",
       "    </tr>\n",
       "    <tr>\n",
       "      <th>390</th>\n",
       "      <td>BASILIO</td>\n",
       "      <td>Dadme un caballo, porque yo en persona\\nve...</td>\n",
       "      <td>3</td>\n",
       "      <td>['    Dadme un caballo, porque yo en persona',...</td>\n",
       "      <td>5</td>\n",
       "    </tr>\n",
       "  </tbody>\n",
       "</table>\n",
       "</div>"
      ],
      "text/plain": [
       "    personaje                                              texto  jornada  \\\n",
       "407  CLOTALDO                   ...tu rey, y esposo de Estrella.        3   \n",
       "61    ASTOLFO      Muy mal informada estáis, \\nEstrella, pues...        1   \n",
       "390   BASILIO      Dadme un caballo, porque yo en persona\\nve...        3   \n",
       "\n",
       "                                                versos  n_versos  \n",
       "407               ['...tu rey, y esposo de Estrella.']         1  \n",
       "61   ['    Muy mal informada estáis, ', 'Estrella, ...        55  \n",
       "390  ['    Dadme un caballo, porque yo en persona',...         5  "
      ]
     },
     "execution_count": 5,
     "metadata": {},
     "output_type": "execute_result"
    }
   ],
   "source": [
    "df.sample(3)"
   ]
  },
  {
   "cell_type": "code",
   "execution_count": 7,
   "id": "1f62f98c",
   "metadata": {},
   "outputs": [
    {
     "data": {
      "text/plain": [
       "\"['Hipogrifo violento,', 'que corriste parejas con el viento,', '¿dónde rayo sin llama,', 'pájaro sin matiz, pez sin escama', 'y bruto sin instinto ', 'natural, al confuso laberinto', 'de esas desnudas peñas te desbocas,', 'te arrastras y despeñas?', 'Quédate en este monte,', 'donde tengan los brutos su Faetonte; ', 'que yo, sin más camino', 'que el que me dan las leyes del destino,', 'ciega y desesperada,', 'bajaré la cabeza enmarañada', 'deste monte eminente ', 'que arruga el sol el ceño de la frente.', 'Mal, Polonia, recibes', 'a un extranjero, pues con sangre escribes', 'su entrada en tus arenas;', 'y apenas llega, cuando llega a penas. ', 'Bien mi suerte lo dice;', 'mas ¿dónde halló piedad un infelice?']\""
      ]
     },
     "execution_count": 7,
     "metadata": {},
     "output_type": "execute_result"
    }
   ],
   "source": [
    "df['versos'][0]"
   ]
  },
  {
   "cell_type": "code",
   "execution_count": 8,
   "id": "fa72c333",
   "metadata": {},
   "outputs": [
    {
     "data": {
      "text/plain": [
       "(110, 4)"
      ]
     },
     "execution_count": 8,
     "metadata": {},
     "output_type": "execute_result"
    }
   ],
   "source": [
    "df_1.shape"
   ]
  },
  {
   "cell_type": "code",
   "execution_count": 9,
   "id": "1299c7c6",
   "metadata": {},
   "outputs": [
    {
     "data": {
      "text/plain": [
       "(227, 4)"
      ]
     },
     "execution_count": 9,
     "metadata": {},
     "output_type": "execute_result"
    }
   ],
   "source": [
    "df_2.shape"
   ]
  },
  {
   "cell_type": "code",
   "execution_count": 10,
   "id": "9c5c1150",
   "metadata": {},
   "outputs": [
    {
     "data": {
      "text/plain": [
       "(154, 4)"
      ]
     },
     "execution_count": 10,
     "metadata": {},
     "output_type": "execute_result"
    }
   ],
   "source": [
    "df_3.shape"
   ]
  },
  {
   "cell_type": "code",
   "execution_count": 13,
   "id": "963c0402",
   "metadata": {},
   "outputs": [],
   "source": [
    "trans = Translator()"
   ]
  },
  {
   "cell_type": "code",
   "execution_count": 14,
   "id": "5c2a2c43",
   "metadata": {},
   "outputs": [
    {
     "name": "stdout",
     "output_type": "stream",
     "text": [
      "Translated(src=en, dest=en, text=españa es el mejor país de europa, pronunciation=españa es el mejor país de europa, extra_data=\"{'translat...\")\n"
     ]
    }
   ],
   "source": [
    "esp = \"españa es el mejor país de europa\"\n",
    "en = trans.translate(esp, src='es', dest='en')\n",
    "print(en)"
   ]
  },
  {
   "cell_type": "code",
   "execution_count": null,
   "id": "67349aed",
   "metadata": {},
   "outputs": [],
   "source": [
    "def english(string):\n",
    "    try:\n",
    "        en = trans.translate(string,dest=\"en\")\n",
    "        return en.text\n",
    "    except:\n",
    "        None"
   ]
  },
  {
   "cell_type": "code",
   "execution_count": null,
   "id": "1a02d886",
   "metadata": {},
   "outputs": [],
   "source": [
    "def reenglish(string):\n",
    "    try:\n",
    "        if df_1.versos == None:\n",
    "            en = trans.translate(string,dest=\"en\")\n",
    "            return en.text\n",
    "        else:\n",
    "            return string\n",
    "    except:\n",
    "        None"
   ]
  },
  {
   "cell_type": "code",
   "execution_count": null,
   "id": "ebc9de3e",
   "metadata": {},
   "outputs": [],
   "source": [
    "df_1"
   ]
  },
  {
   "cell_type": "code",
   "execution_count": null,
   "id": "bf73f7e6",
   "metadata": {},
   "outputs": [],
   "source": [
    "trans = Translator()"
   ]
  },
  {
   "cell_type": "code",
   "execution_count": 12,
   "id": "55657e64",
   "metadata": {},
   "outputs": [
    {
     "ename": "NameError",
     "evalue": "name 'english' is not defined",
     "output_type": "error",
     "traceback": [
      "\u001b[0;31m---------------------------------------------------------------------------\u001b[0m",
      "\u001b[0;31mNameError\u001b[0m                                 Traceback (most recent call last)",
      "\u001b[0;32m/tmp/ipykernel_424/4049774757.py\u001b[0m in \u001b[0;36m<module>\u001b[0;34m\u001b[0m\n\u001b[0;32m----> 1\u001b[0;31m \u001b[0mdf_1\u001b[0m\u001b[0;34m[\u001b[0m\u001b[0;34m'versos_en'\u001b[0m\u001b[0;34m]\u001b[0m\u001b[0;34m=\u001b[0m \u001b[0mdf_1\u001b[0m\u001b[0;34m.\u001b[0m\u001b[0mversos\u001b[0m\u001b[0;34m.\u001b[0m\u001b[0mapply\u001b[0m\u001b[0;34m(\u001b[0m\u001b[0menglish\u001b[0m\u001b[0;34m)\u001b[0m\u001b[0;34m\u001b[0m\u001b[0;34m\u001b[0m\u001b[0m\n\u001b[0m",
      "\u001b[0;31mNameError\u001b[0m: name 'english' is not defined"
     ]
    }
   ],
   "source": [
    "df_1['versos_en']= df_1.versos.apply(english)"
   ]
  },
  {
   "cell_type": "code",
   "execution_count": null,
   "id": "89f21bb7",
   "metadata": {},
   "outputs": [],
   "source": []
  },
  {
   "cell_type": "code",
   "execution_count": null,
   "id": "314ca674",
   "metadata": {},
   "outputs": [],
   "source": []
  },
  {
   "cell_type": "code",
   "execution_count": null,
   "id": "9d95f6b8",
   "metadata": {},
   "outputs": [],
   "source": []
  },
  {
   "cell_type": "code",
   "execution_count": null,
   "id": "83cf0074",
   "metadata": {},
   "outputs": [],
   "source": []
  },
  {
   "cell_type": "code",
   "execution_count": null,
   "id": "ee8cec7a",
   "metadata": {},
   "outputs": [],
   "source": []
  },
  {
   "cell_type": "code",
   "execution_count": null,
   "id": "f518ea89",
   "metadata": {},
   "outputs": [],
   "source": [
    "df_1['versos'][0]"
   ]
  },
  {
   "cell_type": "code",
   "execution_count": null,
   "id": "6689803b",
   "metadata": {},
   "outputs": [],
   "source": [
    "esp = df_1['versos'][0]\n",
    "en = trans.translate(esp, src='es', dest=\"en\")\n",
    "print(en)"
   ]
  },
  {
   "cell_type": "raw",
   "id": "5722a7c3",
   "metadata": {},
   "source": []
  },
  {
   "cell_type": "code",
   "execution_count": null,
   "id": "dae9bd65",
   "metadata": {},
   "outputs": [],
   "source": [
    "df_1[30:50]"
   ]
  },
  {
   "cell_type": "code",
   "execution_count": null,
   "id": "4e1038ac",
   "metadata": {},
   "outputs": [],
   "source": []
  },
  {
   "cell_type": "code",
   "execution_count": null,
   "id": "1f3b0ad4",
   "metadata": {},
   "outputs": [],
   "source": [
    "time.sleep(100)\n",
    "df_2['versos_en']= df_2.versos.apply(english)"
   ]
  },
  {
   "cell_type": "code",
   "execution_count": null,
   "id": "2a0e5bb0",
   "metadata": {},
   "outputs": [],
   "source": [
    "time.sleep(200)\n",
    "df_3['versos_en']= df_3.versos.apply(english)"
   ]
  },
  {
   "cell_type": "code",
   "execution_count": null,
   "id": "8bab3290",
   "metadata": {},
   "outputs": [],
   "source": [
    "df_1.head()"
   ]
  },
  {
   "cell_type": "code",
   "execution_count": null,
   "id": "c1010455",
   "metadata": {},
   "outputs": [],
   "source": []
  },
  {
   "cell_type": "code",
   "execution_count": null,
   "id": "078c4180",
   "metadata": {},
   "outputs": [],
   "source": [
    "\n",
    "# Create a Translator object providing your DeepL API authentication key.\n",
    "# To avoid writing your key in source code, you can set it in an environment\n",
    "# variable DEEPL_AUTH_KEY, then read the variable in your Python code:\n",
    "translator = deepl.Translator(os.getenv(\"DEEPL_AUTH_KEY\"))\n",
    "\n",
    "# Translate multiple texts into British English\n",
    "result = translator.translate_text(df_1['versos'][0], target_lang=\"EN-GB\")\n",
    "print(result.text)  # \"How are you?\"\n"
   ]
  },
  {
   "cell_type": "code",
   "execution_count": null,
   "id": "46ed9630",
   "metadata": {},
   "outputs": [],
   "source": [
    "def traduc_versos(list):\n",
    "    translator = deepl.Translator(os.getenv(\"DEEPL_AUTH_KEY\"))\n",
    "    try:\n",
    "        time.sleep(3)\n",
    "        result = translator.translate_text(df_1['versos'], target_lang=\"EN-GB\")\n",
    "        return result\n",
    "    except:\n",
    "        return Error"
   ]
  },
  {
   "cell_type": "code",
   "execution_count": null,
   "id": "d131808d",
   "metadata": {},
   "outputs": [],
   "source": []
  },
  {
   "cell_type": "code",
   "execution_count": null,
   "id": "2751c0bf",
   "metadata": {},
   "outputs": [],
   "source": []
  },
  {
   "cell_type": "code",
   "execution_count": null,
   "id": "4b35b483",
   "metadata": {},
   "outputs": [],
   "source": []
  },
  {
   "cell_type": "code",
   "execution_count": null,
   "id": "4da7286e",
   "metadata": {},
   "outputs": [],
   "source": []
  },
  {
   "cell_type": "code",
   "execution_count": null,
   "id": "171cda73",
   "metadata": {},
   "outputs": [],
   "source": []
  },
  {
   "cell_type": "code",
   "execution_count": null,
   "id": "db4505c8",
   "metadata": {},
   "outputs": [],
   "source": []
  },
  {
   "cell_type": "code",
   "execution_count": null,
   "id": "badd8aee",
   "metadata": {},
   "outputs": [],
   "source": [
    "fd = open('../data/LID.pdf', \"rb\")\n",
    "viewer = SimplePDFViewer(fd)\n",
    "viewer.render()"
   ]
  },
  {
   "cell_type": "code",
   "execution_count": null,
   "id": "98899567",
   "metadata": {},
   "outputs": [],
   "source": [
    "markdown = viewer.canvas.text_content\n",
    "markdown"
   ]
  },
  {
   "cell_type": "code",
   "execution_count": null,
   "id": "af4372d8",
   "metadata": {},
   "outputs": [],
   "source": [
    "viewer.canvas.strings"
   ]
  },
  {
   "cell_type": "code",
   "execution_count": null,
   "id": "e020824c",
   "metadata": {},
   "outputs": [],
   "source": [
    " isinstance(markdown, str)"
   ]
  },
  {
   "cell_type": "code",
   "execution_count": null,
   "id": "98fd8bf3",
   "metadata": {},
   "outputs": [],
   "source": [
    "with open(\"example-crash-markdown.txt\", \"w\") as f:\n",
    "    f.write(markdown)"
   ]
  },
  {
   "cell_type": "code",
   "execution_count": null,
   "id": "ecf00e88",
   "metadata": {},
   "outputs": [],
   "source": []
  },
  {
   "cell_type": "code",
   "execution_count": null,
   "id": "0433302c",
   "metadata": {},
   "outputs": [],
   "source": [
    "document = Document(\"../data/LID.docx\")"
   ]
  },
  {
   "cell_type": "code",
   "execution_count": null,
   "id": "365a2663",
   "metadata": {},
   "outputs": [],
   "source": [
    "data = [[cell.text for cell in row.cells] for row in table.rows]\n",
    "df = pd.DataFrame(data)"
   ]
  },
  {
   "cell_type": "code",
   "execution_count": null,
   "id": "ac09f086",
   "metadata": {},
   "outputs": [],
   "source": [
    "import docx\n",
    "doc = docx.Document(\"../data/LID.docx\")\n",
    "paras = [p.text for p in doc.paragraphs if p.text]   "
   ]
  },
  {
   "cell_type": "code",
   "execution_count": null,
   "id": "cfb66075",
   "metadata": {},
   "outputs": [],
   "source": [
    "print(f'=== Output type is a {type(paras)} of {type(paras[1])} \\ntotal length is {len(paras)} ===') "
   ]
  },
  {
   "cell_type": "code",
   "execution_count": null,
   "id": "655e7b55",
   "metadata": {},
   "outputs": [],
   "source": [
    "print(paras)"
   ]
  },
  {
   "cell_type": "code",
   "execution_count": null,
   "id": "a5898788",
   "metadata": {},
   "outputs": [],
   "source": []
  },
  {
   "cell_type": "code",
   "execution_count": null,
   "id": "16f56ce7",
   "metadata": {},
   "outputs": [],
   "source": []
  },
  {
   "cell_type": "code",
   "execution_count": null,
   "id": "ef03f30e",
   "metadata": {},
   "outputs": [],
   "source": []
  },
  {
   "cell_type": "code",
   "execution_count": null,
   "id": "f5f9ffcc",
   "metadata": {},
   "outputs": [],
   "source": []
  },
  {
   "cell_type": "code",
   "execution_count": null,
   "id": "10ad201f",
   "metadata": {},
   "outputs": [],
   "source": []
  },
  {
   "cell_type": "code",
   "execution_count": null,
   "id": "a5e795cd",
   "metadata": {},
   "outputs": [],
   "source": []
  },
  {
   "cell_type": "code",
   "execution_count": null,
   "id": "47c8ae23",
   "metadata": {},
   "outputs": [],
   "source": []
  },
  {
   "cell_type": "code",
   "execution_count": null,
   "id": "a87cfbd1",
   "metadata": {},
   "outputs": [],
   "source": []
  },
  {
   "cell_type": "code",
   "execution_count": null,
   "id": "8fed60fc",
   "metadata": {},
   "outputs": [],
   "source": []
  }
 ],
 "metadata": {
  "kernelspec": {
   "display_name": "minimal_ds",
   "language": "python",
   "name": "minimal_ds"
  },
  "language_info": {
   "codemirror_mode": {
    "name": "ipython",
    "version": 3
   },
   "file_extension": ".py",
   "mimetype": "text/x-python",
   "name": "python",
   "nbconvert_exporter": "python",
   "pygments_lexer": "ipython3",
   "version": "3.10.0"
  },
  "toc": {
   "base_numbering": 1,
   "nav_menu": {},
   "number_sections": true,
   "sideBar": true,
   "skip_h1_title": false,
   "title_cell": "Table of Contents",
   "title_sidebar": "Contents",
   "toc_cell": false,
   "toc_position": {},
   "toc_section_display": true,
   "toc_window_display": false
  }
 },
 "nbformat": 4,
 "nbformat_minor": 5
}
