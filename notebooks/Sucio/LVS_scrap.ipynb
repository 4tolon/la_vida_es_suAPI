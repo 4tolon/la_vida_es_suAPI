{
 "cells": [
  {
   "cell_type": "markdown",
   "id": "6069dbaf",
   "metadata": {},
   "source": [
    " # La vida es sueno.\n",
    " "
   ]
  },
  {
   "cell_type": "markdown",
   "id": "d018c5e6",
   "metadata": {},
   "source": [
    "![](img/portada_libro.jpg)"
   ]
  },
  {
   "cell_type": "markdown",
   "id": "7aff5a07",
   "metadata": {},
   "source": [
    "## Importo funciones "
   ]
  },
  {
   "cell_type": "markdown",
   "id": "80a747fa",
   "metadata": {},
   "source": [
    "![](images/masaun.jpg)"
   ]
  },
  {
   "cell_type": "code",
   "execution_count": 1,
   "id": "280ec1b2",
   "metadata": {},
   "outputs": [],
   "source": [
    "# El mantra de las visualizaciones\n",
    "from matplotlib import pyplot as plt\n",
    "%matplotlib inline\n",
    "%config Inlinebackend.figure_format = 'retina'\n",
    "\n",
    "import seaborn as sns\n",
    "sns.set_context('poster')\n",
    "sns.set(rc={'figure.figsize': (16., 9.)})\n",
    "sns.set_style('whitegrid')"
   ]
  },
  {
   "cell_type": "code",
   "execution_count": 2,
   "id": "764d091a",
   "metadata": {},
   "outputs": [],
   "source": [
    "from selenium import webdriver\n",
    "from selenium.webdriver.chrome.options import Options\n",
    "import time\n",
    "import pandas as pd\n",
    "from selenium.webdriver.support.ui import Select\n",
    "from webdriver_manager.chrome import ChromeDriverManager"
   ]
  },
  {
   "cell_type": "code",
   "execution_count": 3,
   "id": "6f535f29",
   "metadata": {},
   "outputs": [],
   "source": [
    "import urllib.request\n",
    "import re\n"
   ]
  },
  {
   "cell_type": "markdown",
   "id": "bebc8c14",
   "metadata": {},
   "source": [
    "###  Opciones de para Selenium"
   ]
  },
  {
   "cell_type": "code",
   "execution_count": 4,
   "id": "10d9027c",
   "metadata": {},
   "outputs": [],
   "source": [
    "opciones=Options()\n",
    "opciones.add_experimental_option('excludeSwitches', ['enable-automation'])\n",
    "opciones.add_experimental_option('useAutomationExtension', False)\n",
    "opciones.headless=False    # si True, no aperece la ventana (headless=no visible)\n",
    "opciones.add_argument('--start-maximized')         # comienza maximizado\n",
    "#opciones.add_argument('user-data-dir=selenium')    # mantiene las cookies\n",
    "#opciones.add_extension('driver_folder/adblock.crx')       # adblocker\n",
    "opciones.add_argument('--incognito')              # incognito"
   ]
  },
  {
   "cell_type": "markdown",
   "id": "be58d9d0",
   "metadata": {},
   "source": [
    "![](images/bragas.jpg)"
   ]
  },
  {
   "cell_type": "markdown",
   "id": "c046ce27",
   "metadata": {},
   "source": [
    "### Uso se selenium"
   ]
  },
  {
   "cell_type": "markdown",
   "id": "df17f15f",
   "metadata": {},
   "source": [
    "#### Pagina uno corresponde al primer acto de la obra. www.cervantesvirtual.com"
   ]
  },
  {
   "cell_type": "code",
   "execution_count": 5,
   "id": "5750717a",
   "metadata": {},
   "outputs": [
    {
     "name": "stderr",
     "output_type": "stream",
     "text": [
      "/tmp/ipykernel_677/1897609538.py:2: DeprecationWarning: executable_path has been deprecated, please pass in a Service object\n",
      "  driver = webdriver.Chrome(driver,  options = opciones)\n",
      "/tmp/ipykernel_677/1897609538.py:9: DeprecationWarning: find_element_by_* commands are deprecated. Please use find_element() instead\n",
      "  p = driver.find_element_by_css_selector(f\"#obra > table:nth-child(26) > tbody > tr:nth-child({i}) > td > table > tbody > tr > td:nth-child(1)\").text\n",
      "/tmp/ipykernel_677/1897609538.py:13: DeprecationWarning: find_element_by_* commands are deprecated. Please use find_element() instead\n",
      "  d = driver.find_element_by_css_selector(f'#obra > table:nth-child(26) > tbody > tr:nth-child({i}) > td > table > tbody > tr > td:nth-child(2) > table > tbody').text\n"
     ]
    }
   ],
   "source": [
    "driver = \"../tools/chromedriver.exe\"\n",
    "driver = webdriver.Chrome(driver,  options = opciones)\n",
    "url = 'http://www.cervantesvirtual.com/obra-visor/la-vida-es-sueno--0/html/fedc73fa-82b1-11df-acc7-002185ce6064_2.html'\n",
    "df1 = pd.DataFrame()\n",
    "acto1 = []\n",
    "driver.get(f'http://www.cervantesvirtual.com/obra-visor/la-vida-es-sueno--0/html/fedc73fa-82b1-11df-acc7-002185ce6064_2.html')\n",
    "for i in range(145):\n",
    "    try:\n",
    "        p = driver.find_element_by_css_selector(f\"#obra > table:nth-child(26) > tbody > tr:nth-child({i}) > td > table > tbody > tr > td:nth-child(1)\").text                             \n",
    "    except:\n",
    "        p = ' '\n",
    "    try:\n",
    "        d = driver.find_element_by_css_selector(f'#obra > table:nth-child(26) > tbody > tr:nth-child({i}) > td > table > tbody > tr > td:nth-child(2) > table > tbody').text\n",
    "    except:\n",
    "        d= ' '\n",
    "    \n",
    "    acto1.append([p,d])                                           "
   ]
  },
  {
   "cell_type": "code",
   "execution_count": 6,
   "id": "6c8d5af1",
   "metadata": {},
   "outputs": [
    {
     "data": {
      "text/plain": [
       "[[' ', ' '],\n",
       " [' ', ' '],\n",
       " [' ', ' '],\n",
       " ['ROSAURA',\n",
       "  'Hipogrifo violento,\\nque corriste parejas con el viento,\\n¿dónde rayo sin llama,\\n—82→\\npájaro sin matiz, pez sin escama\\ny bruto sin instinto 5\\nnatural, al confuso laberinto\\nde esas desnudas peñas te desbocas,\\nte arrastras y despeñas?\\nQuédate en este monte,\\ndonde tengan los brutos su Faetonte; 10\\nque yo, sin más camino\\nque el que me dan las leyes del destino,\\nciega y desesperada,\\nbajaré la cabeza enmarañada\\ndeste monte eminente 15\\nque arruga el sol el ceño de la frente.\\n—83→\\nMal, Polonia, recibes\\na un extranjero, pues con sangre escribes\\nsu entrada en tus arenas;\\ny apenas llega, cuando llega a penas. 20\\nBien mi suerte lo dice;\\nmas ¿dónde halló piedad un infelice?']]"
      ]
     },
     "execution_count": 6,
     "metadata": {},
     "output_type": "execute_result"
    }
   ],
   "source": [
    "acto1[1:5]"
   ]
  },
  {
   "cell_type": "markdown",
   "id": "ac53935b",
   "metadata": {},
   "source": [
    "#### Pagina dos corresponde al segundo acto de la obra"
   ]
  },
  {
   "cell_type": "code",
   "execution_count": 7,
   "id": "c0ba22f2",
   "metadata": {},
   "outputs": [
    {
     "name": "stderr",
     "output_type": "stream",
     "text": [
      "/tmp/ipykernel_677/908317831.py:2: DeprecationWarning: executable_path has been deprecated, please pass in a Service object\n",
      "  driver = webdriver.Chrome(driver,  options = opciones)\n",
      "/tmp/ipykernel_677/908317831.py:10: DeprecationWarning: find_element_by_* commands are deprecated. Please use find_element() instead\n",
      "  p = driver.find_element_by_css_selector(f'#obra > table > tbody > tr:nth-child({i}) > td > table > tbody > tr > td:nth-child(1)').text\n",
      "/tmp/ipykernel_677/908317831.py:14: DeprecationWarning: find_element_by_* commands are deprecated. Please use find_element() instead\n",
      "  d = driver.find_element_by_css_selector(f'#obra > table > tbody > tr:nth-child({i}) > td > table > tbody > tr > td:nth-child(2) > table').text\n"
     ]
    }
   ],
   "source": [
    "driver = \"../tools/chromedriver.exe\"\n",
    "driver = webdriver.Chrome(driver,  options = opciones)\n",
    "url = 'http://www.cervantesvirtual.com/obra-visor/la-vida-es-sueno--0/html/fedc73fa-82b1-11df-acc7-002185ce6064_3.html'\n",
    "df1 = pd.DataFrame()\n",
    "\n",
    "acto2 = []\n",
    "driver.get(f'http://www.cervantesvirtual.com/obra-visor/la-vida-es-sueno--0/html/fedc73fa-82b1-11df-acc7-002185ce6064_3.html')\n",
    "for i in range(292):\n",
    "    try:\n",
    "        p = driver.find_element_by_css_selector(f'#obra > table > tbody > tr:nth-child({i}) > td > table > tbody > tr > td:nth-child(1)').text                             \n",
    "    except:                                      \n",
    "        p = ' '\n",
    "    try:\n",
    "        d = driver.find_element_by_css_selector(f'#obra > table > tbody > tr:nth-child({i}) > td > table > tbody > tr > td:nth-child(2) > table').text\n",
    "    except:                                      \n",
    "        d= ' '\n",
    "    acto2.append([p,d])             "
   ]
  },
  {
   "cell_type": "code",
   "execution_count": 8,
   "id": "4936bd5a",
   "metadata": {},
   "outputs": [
    {
     "data": {
      "text/plain": [
       "[['CLARÍN', 'A mí.'],\n",
       " ['[CRIADO] 2.º', 'Llega a hablarle ya.'],\n",
       " ['[CRIADO] 1.º', '¿Volverán a cantar?'],\n",
       " ['SEGISMUNDO', 'No,\\nno quiero que canten más.'],\n",
       " ['[CRIADO] 2.º', 'Como tan suspenso estás,\\nquise divertirte.'],\n",
       " ['SEGISMUNDO',\n",
       "  'Yo\\n270\\nno tengo de divertir\\ncon sus voces mis pesares;\\n—126→\\nlas músicas militares\\nsólo he gustado de oír.']]"
      ]
     },
     "execution_count": 8,
     "metadata": {},
     "output_type": "execute_result"
    }
   ],
   "source": [
    "acto2[34:40]"
   ]
  },
  {
   "cell_type": "markdown",
   "id": "b8fac715",
   "metadata": {},
   "source": [
    "#### Pagina dos corresponde al segundo acto de la obra"
   ]
  },
  {
   "cell_type": "code",
   "execution_count": 9,
   "id": "9c631330",
   "metadata": {},
   "outputs": [
    {
     "name": "stderr",
     "output_type": "stream",
     "text": [
      "/tmp/ipykernel_677/1704114851.py:2: DeprecationWarning: executable_path has been deprecated, please pass in a Service object\n",
      "  driver = webdriver.Chrome(driver,  options = opciones)\n",
      "/tmp/ipykernel_677/1704114851.py:8: DeprecationWarning: find_element_by_* commands are deprecated. Please use find_element() instead\n",
      "  p = driver.find_element_by_css_selector(f'#obra > table > tbody > tr:nth-child({i}) > td > table > tbody > tr > td:nth-child(1)').text\n",
      "/tmp/ipykernel_677/1704114851.py:12: DeprecationWarning: find_element_by_* commands are deprecated. Please use find_element() instead\n",
      "  d = driver.find_element_by_css_selector(f'#obra > table > tbody > tr:nth-child({i}) > td > table > tbody > tr > td:nth-child(2) > table').text\n"
     ]
    }
   ],
   "source": [
    "driver = \"../tools/chromedriver.exe\"\n",
    "driver = webdriver.Chrome(driver,  options = opciones)\n",
    "url = 'http://www.cervantesvirtual.com/obra-visor/la-vida-es-sueno--0/html/fedc73fa-82b1-11df-acc7-002185ce6064_4.html'\n",
    "acto3 = []\n",
    "driver.get(f'http://www.cervantesvirtual.com/obra-visor/la-vida-es-sueno--0/html/fedc73fa-82b1-11df-acc7-002185ce6064_4.html')\n",
    "for i in range(205):\n",
    "    try:\n",
    "        p = driver.find_element_by_css_selector(f'#obra > table > tbody > tr:nth-child({i}) > td > table > tbody > tr > td:nth-child(1)').text                             \n",
    "    except:                                        #obra > table > tbody > tr:nth-child(4) > td > table > tbody > tr > td:nth-child(1)\n",
    "        p = ' '\n",
    "    try:\n",
    "        d = driver.find_element_by_css_selector(f'#obra > table > tbody > tr:nth-child({i}) > td > table > tbody > tr > td:nth-child(2) > table').text\n",
    "    except:\n",
    "        d= ' '\n",
    "    #obra > table > tbody > tr:nth-child(291) > td > table > tbody > tr > td:nth-child(1)\n",
    "    acto3.append([p,d])"
   ]
  },
  {
   "cell_type": "code",
   "execution_count": 10,
   "id": "c01f50f1",
   "metadata": {},
   "outputs": [
    {
     "data": {
      "text/plain": [
       "[['[SOLDADO] 2.º', '¿Quién es Segismundo?'],\n",
       " ['SEGISMUNDO', 'Yo.'],\n",
       " ['[SOLDADO] 2.º', 'Pues ¿cómo, atrevido y necio,\\ntú te hacías Segismundo?'],\n",
       " ['CLARÍN',\n",
       "  '¿Yo Segismundo? Eso niego.\\nQue vosotros fuistis quien 85\\nme segismundasteis; luego\\nvuestra ha sido solamente\\nnecedad y atrevimiento.'],\n",
       " ['[SOLDADO] 1.º',\n",
       "  'Gran príncipe Segismundo\\n(que las señas que traemos 90\\ntuyas son, aunque por fe\\nte aclamamos señor nuestro),\\ntu padre, el gran rey Basilio,\\ntemeroso que los cielos\\ncumplan un hado, que dice 95\\nque ha de verse a tus pies puesto,\\nvencido de ti, pretende\\nquitarte acción y derecho\\ny dársela a Astolfo, duque\\nde Moscovia. Para esto 100\\njuntó su corte, y el vulgo,\\npenetrando ya y sabiendo\\nque tiene rey natural,\\nno quiere que un extranjero\\nvenga a mandarle. Y así, 105\\nhaciendo noble desprecio\\nde la inclemencia del hado,\\nte ha buscado donde preso\\nvives, para que, valido\\nde tus armas y saliendo 110\\ndesta torre a restaurar\\n—163→\\ntu imperial corona y cetro,\\nse la quites a un tirano.\\nSal, pues; que en ese desierto\\nejército numeroso 115\\nde bandidos y plebeyos\\nte aclama. La libertad\\nte espera; oye sus acentos.'],\n",
       " ['VOCES', '¡Viva Segismundo, viva!']]"
      ]
     },
     "execution_count": 10,
     "metadata": {},
     "output_type": "execute_result"
    }
   ],
   "source": [
    "acto3[34:40]"
   ]
  },
  {
   "cell_type": "markdown",
   "id": "30eca922",
   "metadata": {},
   "source": [
    "Limpiamos las listas de listas, para ello defino una funcion que me elimine las listas vacia, los numeros, y las flechas que aparecen del escrapeo con selenium"
   ]
  },
  {
   "cell_type": "code",
   "execution_count": 11,
   "id": "012c25a7",
   "metadata": {},
   "outputs": [],
   "source": [
    "def limpia(lista):\n",
    "    '''\n",
    "    Funcion que limpia la lista procedente del escrapeo\n",
    "    Args: \n",
    "    Recibe lista sucia\n",
    "    Retrun:\n",
    "    Lista limpia para almacenar\n",
    "    '''\n",
    "    lista_limpia = []\n",
    "    for elemento in lista:\n",
    "        if elemento != [' ', ' ']:\n",
    "            lista_limpia.append(elemento)\n",
    "        else:\n",
    "            continue \n",
    "    for elemento in lista_limpia:\n",
    "        elemento[1] = re.sub(r'[0-9]+', '', elemento[1])\n",
    "        elemento[1] = re.sub(r'—→', '', elemento[1])\n",
    "    lista = lista_limpia\n",
    "    return lista_limpia"
   ]
  },
  {
   "cell_type": "markdown",
   "id": "2eb3e6a4",
   "metadata": {},
   "source": [
    "Aplico la funcion a las tres listas:"
   ]
  },
  {
   "cell_type": "code",
   "execution_count": 12,
   "id": "9d05fe55",
   "metadata": {},
   "outputs": [],
   "source": [
    "acto_1 = limpia(acto1)\n",
    "acto_2 = limpia(acto2)\n",
    "acto_3 = limpia(acto3)"
   ]
  },
  {
   "cell_type": "code",
   "execution_count": 13,
   "id": "7226ec16",
   "metadata": {},
   "outputs": [
    {
     "data": {
      "text/plain": [
       "[['ROSAURA',\n",
       "  'Hipogrifo violento,\\nque corriste parejas con el viento,\\n¿dónde rayo sin llama,\\n\\npájaro sin matiz, pez sin escama\\ny bruto sin instinto \\nnatural, al confuso laberinto\\nde esas desnudas peñas te desbocas,\\nte arrastras y despeñas?\\nQuédate en este monte,\\ndonde tengan los brutos su Faetonte; \\nque yo, sin más camino\\nque el que me dan las leyes del destino,\\nciega y desesperada,\\nbajaré la cabeza enmarañada\\ndeste monte eminente \\nque arruga el sol el ceño de la frente.\\n\\nMal, Polonia, recibes\\na un extranjero, pues con sangre escribes\\nsu entrada en tus arenas;\\ny apenas llega, cuando llega a penas. \\nBien mi suerte lo dice;\\nmas ¿dónde halló piedad un infelice?'],\n",
       " ['CLARÍN',\n",
       "  'Di dos, y no me dejes\\nen la posada a mí cuando te quejes;\\nque si dos hemos sido \\nlos que de nuestra patria hemos salido\\na probar aventuras,\\ndos los que entre desdichas y locuras\\naquí habemos llegado,\\ny dos los que del monte hemos rodado, \\n¿no es razón que yo sienta\\nmeterme en el pesar y no en la cuenta?'],\n",
       " ['ROSAURA',\n",
       "  'No quise darte parte\\nen mis quejas, Clarín, por no quitarte,\\nllorando tu desvelo, \\nel derecho que tienes al consuelo;\\nque tanto gusto había\\nen quejarse, un filósofo decía,\\n\\nque, a trueco de quejarse,\\nhabían las desdichas de buscarse. ']]"
      ]
     },
     "execution_count": 13,
     "metadata": {},
     "output_type": "execute_result"
    }
   ],
   "source": [
    "acto_1[:3]"
   ]
  },
  {
   "cell_type": "markdown",
   "id": "bef3d1fa",
   "metadata": {},
   "source": [
    "Genero dataframes para cada acto a partir de las listas "
   ]
  },
  {
   "cell_type": "code",
   "execution_count": 14,
   "id": "65afd493",
   "metadata": {},
   "outputs": [],
   "source": [
    "df_acto1 = pd.DataFrame(acto_1, columns = ['personaje','texto'])\n",
    "df_acto2 = pd.DataFrame(acto_2, columns = ['personaje','texto'])\n",
    "df_acto3 = pd.DataFrame(acto_3, columns = ['personaje','texto'])"
   ]
  },
  {
   "cell_type": "code",
   "execution_count": 15,
   "id": "9d52c902",
   "metadata": {
    "scrolled": false
   },
   "outputs": [
    {
     "name": "stdout",
     "output_type": "stream",
     "text": [
      "acto1= 110 acto2= 227 acto3= 154 lo que suma = 491\n"
     ]
    }
   ],
   "source": [
    "print('acto1=', len(df_acto1), 'acto2=', len(df_acto2), 'acto3=', len(df_acto3), 'lo que suma =', len(df_acto1)+len(df_acto2)+len(df_acto3))"
   ]
  },
  {
   "cell_type": "markdown",
   "id": "24f73aef",
   "metadata": {},
   "source": [
    "Nueva columna para cada df con su número de jornada (acto) correspondiente."
   ]
  },
  {
   "cell_type": "code",
   "execution_count": 16,
   "id": "ddc1b84a",
   "metadata": {},
   "outputs": [],
   "source": [
    "df_acto1['jornada'] = 1\n",
    "df_acto2['jornada'] = 2\n",
    "df_acto3['jornada'] = 3"
   ]
  },
  {
   "cell_type": "markdown",
   "id": "69f02451",
   "metadata": {},
   "source": [
    "Uno los dataframes en uno total"
   ]
  },
  {
   "cell_type": "code",
   "execution_count": 17,
   "id": "744e0093",
   "metadata": {},
   "outputs": [],
   "source": [
    "df_suma = df_acto1.append(df_acto2)\n",
    "df_total = df_suma.append(df_acto3)"
   ]
  },
  {
   "cell_type": "code",
   "execution_count": 18,
   "id": "f244dcad",
   "metadata": {},
   "outputs": [
    {
     "name": "stdout",
     "output_type": "stream",
     "text": [
      "491\n"
     ]
    }
   ],
   "source": [
    "print(len(df_total))"
   ]
  },
  {
   "cell_type": "code",
   "execution_count": 19,
   "id": "e058b3f9",
   "metadata": {
    "scrolled": true
   },
   "outputs": [
    {
     "data": {
      "text/html": [
       "<div>\n",
       "<style scoped>\n",
       "    .dataframe tbody tr th:only-of-type {\n",
       "        vertical-align: middle;\n",
       "    }\n",
       "\n",
       "    .dataframe tbody tr th {\n",
       "        vertical-align: top;\n",
       "    }\n",
       "\n",
       "    .dataframe thead th {\n",
       "        text-align: right;\n",
       "    }\n",
       "</style>\n",
       "<table border=\"1\" class=\"dataframe\">\n",
       "  <thead>\n",
       "    <tr style=\"text-align: right;\">\n",
       "      <th></th>\n",
       "      <th>personaje</th>\n",
       "      <th>texto</th>\n",
       "      <th>jornada</th>\n",
       "    </tr>\n",
       "  </thead>\n",
       "  <tbody>\n",
       "    <tr>\n",
       "      <th>86</th>\n",
       "      <td>CLOTALDO</td>\n",
       "      <td>Es frenesí.</td>\n",
       "      <td>3</td>\n",
       "    </tr>\n",
       "    <tr>\n",
       "      <th>20</th>\n",
       "      <td>ROSAURA</td>\n",
       "      <td>¿No es breve luz aquella \\n\\ncaduca exhalación...</td>\n",
       "      <td>1</td>\n",
       "    </tr>\n",
       "    <tr>\n",
       "      <th>0</th>\n",
       "      <td>CLARÍN</td>\n",
       "      <td>En una encantada torre,\\npor lo que sé, vi...</td>\n",
       "      <td>3</td>\n",
       "    </tr>\n",
       "    <tr>\n",
       "      <th>18</th>\n",
       "      <td>TODOS</td>\n",
       "      <td>¡Viva!\\n</td>\n",
       "      <td>3</td>\n",
       "    </tr>\n",
       "    <tr>\n",
       "      <th>19</th>\n",
       "      <td>SEGISMUNDO</td>\n",
       "      <td>¡Válgame el cielo, qué veo!\\n¡Válgame el c...</td>\n",
       "      <td>2</td>\n",
       "    </tr>\n",
       "    <tr>\n",
       "      <th>107</th>\n",
       "      <td>CLARÍN</td>\n",
       "      <td>Señora, ¿es hora de verte?</td>\n",
       "      <td>3</td>\n",
       "    </tr>\n",
       "    <tr>\n",
       "      <th>103</th>\n",
       "      <td>CLOTALDO</td>\n",
       "      <td>(Aparte. \\nMal resisto\\n\\nel dolor, porque es...</td>\n",
       "      <td>1</td>\n",
       "    </tr>\n",
       "    <tr>\n",
       "      <th>10</th>\n",
       "      <td>ROSAURA</td>\n",
       "      <td>Inmóvil bulto soy de fuego y yelo.</td>\n",
       "      <td>1</td>\n",
       "    </tr>\n",
       "    <tr>\n",
       "      <th>9</th>\n",
       "      <td>CLOTALDO</td>\n",
       "      <td>(Aparte. \\nÉste es Clarín, el criado\\nde aque...</td>\n",
       "      <td>2</td>\n",
       "    </tr>\n",
       "    <tr>\n",
       "      <th>140</th>\n",
       "      <td>CLOTALDO</td>\n",
       "      <td>Señor, ved que son mías;\\nque no importa veréis.</td>\n",
       "      <td>2</td>\n",
       "    </tr>\n",
       "  </tbody>\n",
       "</table>\n",
       "</div>"
      ],
      "text/plain": [
       "      personaje                                              texto  jornada\n",
       "86     CLOTALDO                                        Es frenesí.        3\n",
       "20      ROSAURA  ¿No es breve luz aquella \\n\\ncaduca exhalación...        1\n",
       "0        CLARÍN      En una encantada torre,\\npor lo que sé, vi...        3\n",
       "18        TODOS                                           ¡Viva!\\n        3\n",
       "19   SEGISMUNDO      ¡Válgame el cielo, qué veo!\\n¡Válgame el c...        2\n",
       "107      CLARÍN                         Señora, ¿es hora de verte?        3\n",
       "103    CLOTALDO   (Aparte. \\nMal resisto\\n\\nel dolor, porque es...        1\n",
       "10      ROSAURA                 Inmóvil bulto soy de fuego y yelo.        1\n",
       "9      CLOTALDO   (Aparte. \\nÉste es Clarín, el criado\\nde aque...        2\n",
       "140    CLOTALDO   Señor, ved que son mías;\\nque no importa veréis.        2"
      ]
     },
     "execution_count": 19,
     "metadata": {},
     "output_type": "execute_result"
    }
   ],
   "source": [
    "df_total.sample(10)"
   ]
  },
  {
   "cell_type": "markdown",
   "id": "3476b489",
   "metadata": {},
   "source": [
    "Creo funciones para eliminar strings vacio que me han quedado"
   ]
  },
  {
   "cell_type": "code",
   "execution_count": 20,
   "id": "5676cec5",
   "metadata": {},
   "outputs": [],
   "source": [
    "def eliminovacios(lista):\n",
    "    return list(filter(lambda x: x != \"\", lista))"
   ]
  },
  {
   "cell_type": "markdown",
   "id": "1db70312",
   "metadata": {},
   "source": [
    "Creo una nueva columna 'versos' a partir de 'texto' mediante lambda para dividir el texto a partis de los salto de linea , limpio esa columna de strins vacios con la funcion creada al efecto, y adiciono otra nueva columna con la suma del numnero de versos que dice cada personaje. "
   ]
  },
  {
   "cell_type": "code",
   "execution_count": 21,
   "id": "393213bc",
   "metadata": {},
   "outputs": [],
   "source": [
    "df_total['versos']= df_total.texto.apply([lambda x: x.split('\\n')])\n",
    "df_total['versos']= df_total.versos.apply(eliminovacios)\n",
    "df_total['n_versos']= df_total.versos.apply([lambda x: len(x)])"
   ]
  },
  {
   "cell_type": "markdown",
   "id": "509cc7ca",
   "metadata": {},
   "source": [
    "Convierto los indeces de las columnas de los dataframes de cada acto en el orden de intervencion por acto y creo nuevo indce general"
   ]
  },
  {
   "cell_type": "code",
   "execution_count": 27,
   "id": "713fb228",
   "metadata": {},
   "outputs": [],
   "source": [
    "df_total.reset_index(inplace=True);"
   ]
  },
  {
   "cell_type": "code",
   "execution_count": 28,
   "id": "693a9221",
   "metadata": {},
   "outputs": [],
   "source": [
    "df_total.rename(columns={'index':'n_interven'}, inplace=True);"
   ]
  },
  {
   "cell_type": "code",
   "execution_count": 32,
   "id": "57bf2fc7",
   "metadata": {},
   "outputs": [
    {
     "data": {
      "text/html": [
       "<div>\n",
       "<style scoped>\n",
       "    .dataframe tbody tr th:only-of-type {\n",
       "        vertical-align: middle;\n",
       "    }\n",
       "\n",
       "    .dataframe tbody tr th {\n",
       "        vertical-align: top;\n",
       "    }\n",
       "\n",
       "    .dataframe thead th {\n",
       "        text-align: right;\n",
       "    }\n",
       "</style>\n",
       "<table border=\"1\" class=\"dataframe\">\n",
       "  <thead>\n",
       "    <tr style=\"text-align: right;\">\n",
       "      <th></th>\n",
       "      <th>n_interven</th>\n",
       "      <th>personaje</th>\n",
       "      <th>texto</th>\n",
       "      <th>jornada</th>\n",
       "      <th>versos</th>\n",
       "      <th>n_versos</th>\n",
       "    </tr>\n",
       "  </thead>\n",
       "  <tbody>\n",
       "    <tr>\n",
       "      <th>248</th>\n",
       "      <td>138</td>\n",
       "      <td>SEGISMUNDO</td>\n",
       "      <td>Mucho, señor, aunque hayas tú venido; \\nyo a e...</td>\n",
       "      <td>2</td>\n",
       "      <td>[Mucho, señor, aunque hayas tú venido; , yo a ...</td>\n",
       "      <td>2</td>\n",
       "    </tr>\n",
       "  </tbody>\n",
       "</table>\n",
       "</div>"
      ],
      "text/plain": [
       "     n_interven   personaje  \\\n",
       "248         138  SEGISMUNDO   \n",
       "\n",
       "                                                 texto  jornada  \\\n",
       "248  Mucho, señor, aunque hayas tú venido; \\nyo a e...        2   \n",
       "\n",
       "                                                versos  n_versos  \n",
       "248  [Mucho, señor, aunque hayas tú venido; , yo a ...         2  "
      ]
     },
     "execution_count": 32,
     "metadata": {},
     "output_type": "execute_result"
    }
   ],
   "source": [
    "df_total.sample(1)"
   ]
  },
  {
   "cell_type": "markdown",
   "id": "cb7c2e6a",
   "metadata": {},
   "source": [
    "Salvo dataframe a csv."
   ]
  },
  {
   "cell_type": "code",
   "execution_count": 30,
   "id": "a08d74b6",
   "metadata": {},
   "outputs": [],
   "source": [
    "df_total.to_csv('../data/df_total.csv', index = False)"
   ]
  },
  {
   "cell_type": "code",
   "execution_count": 31,
   "id": "8e843207",
   "metadata": {},
   "outputs": [
    {
     "data": {
      "text/plain": [
       "(491, 6)"
      ]
     },
     "execution_count": 31,
     "metadata": {},
     "output_type": "execute_result"
    }
   ],
   "source": [
    "df_total.shape"
   ]
  }
 ],
 "metadata": {
  "kernelspec": {
   "display_name": "minimal_ds",
   "language": "python",
   "name": "minimal_ds"
  },
  "language_info": {
   "codemirror_mode": {
    "name": "ipython",
    "version": 3
   },
   "file_extension": ".py",
   "mimetype": "text/x-python",
   "name": "python",
   "nbconvert_exporter": "python",
   "pygments_lexer": "ipython3",
   "version": "3.10.0"
  },
  "toc": {
   "base_numbering": 1,
   "nav_menu": {},
   "number_sections": true,
   "sideBar": true,
   "skip_h1_title": false,
   "title_cell": "Table of Contents",
   "title_sidebar": "Contents",
   "toc_cell": false,
   "toc_position": {},
   "toc_section_display": true,
   "toc_window_display": false
  }
 },
 "nbformat": 4,
 "nbformat_minor": 5
}
