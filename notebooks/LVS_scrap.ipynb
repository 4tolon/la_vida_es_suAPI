{
 "cells": [
  {
   "cell_type": "markdown",
   "id": "6069dbaf",
   "metadata": {},
   "source": [
    " # La vida es sueno.\n",
    " "
   ]
  },
  {
   "cell_type": "markdown",
   "id": "d018c5e6",
   "metadata": {},
   "source": [
    "![](img/portada_libro.jpg)"
   ]
  },
  {
   "cell_type": "markdown",
   "id": "7aff5a07",
   "metadata": {},
   "source": [
    "## Importo funciones "
   ]
  },
  {
   "cell_type": "markdown",
   "id": "80a747fa",
   "metadata": {},
   "source": [
    "![](images/masaun.jpg)"
   ]
  },
  {
   "cell_type": "code",
   "execution_count": 1,
   "id": "280ec1b2",
   "metadata": {},
   "outputs": [],
   "source": [
    "# El mantra de las visualizaciones\n",
    "from matplotlib import pyplot as plt\n",
    "%matplotlib inline\n",
    "%config Inlinebackend.figure_format = 'retina'\n",
    "\n",
    "import seaborn as sns\n",
    "sns.set_context('poster')\n",
    "sns.set(rc={'figure.figsize': (16., 9.)})\n",
    "sns.set_style('whitegrid')"
   ]
  },
  {
   "cell_type": "code",
   "execution_count": 2,
   "id": "764d091a",
   "metadata": {},
   "outputs": [],
   "source": [
    "from selenium import webdriver\n",
    "from selenium.webdriver.chrome.options import Options\n",
    "import time\n",
    "import pandas as pd\n",
    "from selenium.webdriver.support.ui import Select\n",
    "from webdriver_manager.chrome import ChromeDriverManager"
   ]
  },
  {
   "cell_type": "code",
   "execution_count": 3,
   "id": "6f535f29",
   "metadata": {},
   "outputs": [],
   "source": [
    "import urllib.request\n",
    "import re\n"
   ]
  },
  {
   "cell_type": "markdown",
   "id": "bebc8c14",
   "metadata": {},
   "source": [
    "###  Opciones de para Selenium"
   ]
  },
  {
   "cell_type": "code",
   "execution_count": 4,
   "id": "10d9027c",
   "metadata": {},
   "outputs": [],
   "source": [
    "opciones=Options()\n",
    "opciones.add_experimental_option('excludeSwitches', ['enable-automation'])\n",
    "opciones.add_experimental_option('useAutomationExtension', False)\n",
    "opciones.headless=False    # si True, no aperece la ventana (headless=no visible)\n",
    "opciones.add_argument('--start-maximized')         # comienza maximizado\n",
    "#opciones.add_argument('user-data-dir=selenium')    # mantiene las cookies\n",
    "#opciones.add_extension('driver_folder/adblock.crx')       # adblocker\n",
    "opciones.add_argument('--incognito')              # incognito"
   ]
  },
  {
   "cell_type": "markdown",
   "id": "be58d9d0",
   "metadata": {},
   "source": [
    "![](images/bragas.jpg)"
   ]
  },
  {
   "cell_type": "markdown",
   "id": "c046ce27",
   "metadata": {},
   "source": [
    "### Uso se selenium"
   ]
  },
  {
   "cell_type": "markdown",
   "id": "df17f15f",
   "metadata": {},
   "source": [
    "#### Pagina uno corresponde al primer acto de la obra. www.cervantesvirtual.com"
   ]
  },
  {
   "cell_type": "code",
   "execution_count": 5,
   "id": "5750717a",
   "metadata": {},
   "outputs": [
    {
     "name": "stderr",
     "output_type": "stream",
     "text": [
      "/tmp/ipykernel_273/217377957.py:2: DeprecationWarning: executable_path has been deprecated, please pass in a Service object\n",
      "  driver = webdriver.Chrome(driver,  options = opciones)\n",
      "/tmp/ipykernel_273/217377957.py:9: DeprecationWarning: find_element_by_* commands are deprecated. Please use find_element() instead\n",
      "  p = driver.find_element_by_css_selector(f\"#obra > table:nth-child(26) > tbody > tr:nth-child({i}) > td > table > tbody > tr > td:nth-child(1)\").text\n",
      "/tmp/ipykernel_273/217377957.py:13: DeprecationWarning: find_element_by_* commands are deprecated. Please use find_element() instead\n",
      "  d = driver.find_element_by_css_selector(f'#obra > table:nth-child(26) > tbody > tr:nth-child({i}) > td > table > tbody > tr > td:nth-child(2) > table > tbody').text\n"
     ]
    }
   ],
   "source": [
    "driver = \"./chromedriver.exe\"\n",
    "driver = webdriver.Chrome(driver,  options = opciones)\n",
    "url = 'http://www.cervantesvirtual.com/obra-visor/la-vida-es-sueno--0/html/fedc73fa-82b1-11df-acc7-002185ce6064_2.html'\n",
    "df1 = pd.DataFrame()\n",
    "acto1 = []\n",
    "driver.get(f'http://www.cervantesvirtual.com/obra-visor/la-vida-es-sueno--0/html/fedc73fa-82b1-11df-acc7-002185ce6064_2.html')\n",
    "for i in range(145):\n",
    "    try:\n",
    "        p = driver.find_element_by_css_selector(f\"#obra > table:nth-child(26) > tbody > tr:nth-child({i}) > td > table > tbody > tr > td:nth-child(1)\").text                             \n",
    "    except:\n",
    "        p = ' '\n",
    "    try:\n",
    "        d = driver.find_element_by_css_selector(f'#obra > table:nth-child(26) > tbody > tr:nth-child({i}) > td > table > tbody > tr > td:nth-child(2) > table > tbody').text\n",
    "    except:\n",
    "        d= ' '\n",
    "    \n",
    "    acto1.append([p,d])                                           "
   ]
  },
  {
   "cell_type": "code",
   "execution_count": 6,
   "id": "6c8d5af1",
   "metadata": {},
   "outputs": [
    {
     "data": {
      "text/plain": [
       "[[' ', ' '],\n",
       " [' ', ' '],\n",
       " [' ', ' '],\n",
       " ['ROSAURA',\n",
       "  'Hipogrifo violento,\\nque corriste parejas con el viento,\\n¿dónde rayo sin llama,\\n—82→\\npájaro sin matiz, pez sin escama\\ny bruto sin instinto 5\\nnatural, al confuso laberinto\\nde esas desnudas peñas te desbocas,\\nte arrastras y despeñas?\\nQuédate en este monte,\\ndonde tengan los brutos su Faetonte; 10\\nque yo, sin más camino\\nque el que me dan las leyes del destino,\\nciega y desesperada,\\nbajaré la cabeza enmarañada\\ndeste monte eminente 15\\nque arruga el sol el ceño de la frente.\\n—83→\\nMal, Polonia, recibes\\na un extranjero, pues con sangre escribes\\nsu entrada en tus arenas;\\ny apenas llega, cuando llega a penas. 20\\nBien mi suerte lo dice;\\nmas ¿dónde halló piedad un infelice?'],\n",
       " [' ', ' '],\n",
       " [' ', ' '],\n",
       " ['CLARÍN',\n",
       "  'Di dos, y no me dejes\\nen la posada a mí cuando te quejes;\\nque si dos hemos sido 25\\nlos que de nuestra patria hemos salido\\na probar aventuras,\\ndos los que entre desdichas y locuras\\naquí habemos llegado,\\ny dos los que del monte hemos rodado, 30\\n¿no es razón que yo sienta\\nmeterme en el pesar y no en la cuenta?'],\n",
       " ['ROSAURA',\n",
       "  'No quise darte parte\\nen mis quejas, Clarín, por no quitarte,\\nllorando tu desvelo, 35\\nel derecho que tienes al consuelo;\\nque tanto gusto había\\nen quejarse, un filósofo decía,\\n—84→\\nque, a trueco de quejarse,\\nhabían las desdichas de buscarse. 40'],\n",
       " ['CLARÍN',\n",
       "  'El filósofo era\\nun borracho barbón. ¡Oh, quién le diera\\nmás de mil bofetadas!\\nQuejárase después de muy bien dadas.\\nMas ¿qué haremos, señora, 45\\na pie, solos, perdidos y a esta hora\\nen un desierto monte,\\ncuando se parte el sol a otro horizonte?'],\n",
       " ['ROSAURA',\n",
       "  '¡Quién ha visto sucesos tan extraños!\\nMas si la vista no padece engaños 50\\nque hace la fantasía,\\na la medrosa luz que aún tiene el día\\nme parece que veo\\nun edificio.'],\n",
       " ['CLARÍN', 'O miente mi deseo,\\no termino las señas. 55'],\n",
       " ['ROSAURA',\n",
       "  'Rústico nace entre desnudas peñas\\nun palacio tan breve\\nque el sol apenas a mirar se atreve;\\ncon tan rudo artificio\\nla arquitectura está de su edificio 60\\nque parece, a las plantas\\nde tantas rocas y de peñas tantas\\nque al sol tocan la lumbre,\\npeñasco que ha rodado de la cumbre.']]"
      ]
     },
     "execution_count": 6,
     "metadata": {},
     "output_type": "execute_result"
    }
   ],
   "source": [
    "acto1[1:13]"
   ]
  },
  {
   "cell_type": "markdown",
   "id": "ac53935b",
   "metadata": {},
   "source": [
    "#### Pagina dos corresponde al segundo acto de la obra"
   ]
  },
  {
   "cell_type": "code",
   "execution_count": 7,
   "id": "c0ba22f2",
   "metadata": {},
   "outputs": [
    {
     "name": "stderr",
     "output_type": "stream",
     "text": [
      "/tmp/ipykernel_273/1747236396.py:2: DeprecationWarning: executable_path has been deprecated, please pass in a Service object\n",
      "  driver = webdriver.Chrome(driver,  options = opciones)\n",
      "/tmp/ipykernel_273/1747236396.py:10: DeprecationWarning: find_element_by_* commands are deprecated. Please use find_element() instead\n",
      "  p = driver.find_element_by_css_selector(f'#obra > table > tbody > tr:nth-child({i}) > td > table > tbody > tr > td:nth-child(1)').text\n",
      "/tmp/ipykernel_273/1747236396.py:14: DeprecationWarning: find_element_by_* commands are deprecated. Please use find_element() instead\n",
      "  d = driver.find_element_by_css_selector(f'#obra > table > tbody > tr:nth-child({i}) > td > table > tbody > tr > td:nth-child(2) > table').text\n"
     ]
    }
   ],
   "source": [
    "driver = \"./chromedriver.exe\"\n",
    "driver = webdriver.Chrome(driver,  options = opciones)\n",
    "url = 'http://www.cervantesvirtual.com/obra-visor/la-vida-es-sueno--0/html/fedc73fa-82b1-11df-acc7-002185ce6064_3.html'\n",
    "df1 = pd.DataFrame()\n",
    "\n",
    "acto2 = []\n",
    "driver.get(f'http://www.cervantesvirtual.com/obra-visor/la-vida-es-sueno--0/html/fedc73fa-82b1-11df-acc7-002185ce6064_3.html')\n",
    "for i in range(292):\n",
    "    try:\n",
    "        p = driver.find_element_by_css_selector(f'#obra > table > tbody > tr:nth-child({i}) > td > table > tbody > tr > td:nth-child(1)').text                             \n",
    "    except:                                      \n",
    "        p = ' '\n",
    "    try:\n",
    "        d = driver.find_element_by_css_selector(f'#obra > table > tbody > tr:nth-child({i}) > td > table > tbody > tr > td:nth-child(2) > table').text\n",
    "    except:                                      \n",
    "        d= ' '\n",
    "    acto2.append([p,d])             "
   ]
  },
  {
   "cell_type": "code",
   "execution_count": 8,
   "id": "4936bd5a",
   "metadata": {},
   "outputs": [
    {
     "data": {
      "text/plain": [
       "[['CLARÍN', 'A mí.'],\n",
       " ['[CRIADO] 2.º', 'Llega a hablarle ya.'],\n",
       " ['[CRIADO] 1.º', '¿Volverán a cantar?'],\n",
       " ['SEGISMUNDO', 'No,\\nno quiero que canten más.'],\n",
       " ['[CRIADO] 2.º', 'Como tan suspenso estás,\\nquise divertirte.'],\n",
       " ['SEGISMUNDO',\n",
       "  'Yo\\n270\\nno tengo de divertir\\ncon sus voces mis pesares;\\n—126→\\nlas músicas militares\\nsólo he gustado de oír.']]"
      ]
     },
     "execution_count": 8,
     "metadata": {},
     "output_type": "execute_result"
    }
   ],
   "source": [
    "acto2[34:40]"
   ]
  },
  {
   "cell_type": "markdown",
   "id": "b8fac715",
   "metadata": {},
   "source": [
    "#### Pagina dos corresponde al segundo acto de la obra"
   ]
  },
  {
   "cell_type": "code",
   "execution_count": 9,
   "id": "9c631330",
   "metadata": {},
   "outputs": [
    {
     "name": "stderr",
     "output_type": "stream",
     "text": [
      "/tmp/ipykernel_273/3063830464.py:2: DeprecationWarning: executable_path has been deprecated, please pass in a Service object\n",
      "  driver = webdriver.Chrome(driver,  options = opciones)\n",
      "/tmp/ipykernel_273/3063830464.py:8: DeprecationWarning: find_element_by_* commands are deprecated. Please use find_element() instead\n",
      "  p = driver.find_element_by_css_selector(f'#obra > table > tbody > tr:nth-child({i}) > td > table > tbody > tr > td:nth-child(1)').text\n",
      "/tmp/ipykernel_273/3063830464.py:12: DeprecationWarning: find_element_by_* commands are deprecated. Please use find_element() instead\n",
      "  d = driver.find_element_by_css_selector(f'#obra > table > tbody > tr:nth-child({i}) > td > table > tbody > tr > td:nth-child(2) > table').text\n"
     ]
    }
   ],
   "source": [
    "driver = \"./chromedriver.exe\"\n",
    "driver = webdriver.Chrome(driver,  options = opciones)\n",
    "url = 'http://www.cervantesvirtual.com/obra-visor/la-vida-es-sueno--0/html/fedc73fa-82b1-11df-acc7-002185ce6064_4.html'\n",
    "acto3 = []\n",
    "driver.get(f'http://www.cervantesvirtual.com/obra-visor/la-vida-es-sueno--0/html/fedc73fa-82b1-11df-acc7-002185ce6064_4.html')\n",
    "for i in range(205):\n",
    "    try:\n",
    "        p = driver.find_element_by_css_selector(f'#obra > table > tbody > tr:nth-child({i}) > td > table > tbody > tr > td:nth-child(1)').text                             \n",
    "    except:                                        #obra > table > tbody > tr:nth-child(4) > td > table > tbody > tr > td:nth-child(1)\n",
    "        p = ' '\n",
    "    try:\n",
    "        d = driver.find_element_by_css_selector(f'#obra > table > tbody > tr:nth-child({i}) > td > table > tbody > tr > td:nth-child(2) > table').text\n",
    "    except:\n",
    "        d= ' '\n",
    "    #obra > table > tbody > tr:nth-child(291) > td > table > tbody > tr > td:nth-child(1)\n",
    "    acto3.append([p,d])"
   ]
  },
  {
   "cell_type": "code",
   "execution_count": 10,
   "id": "c01f50f1",
   "metadata": {},
   "outputs": [
    {
     "data": {
      "text/plain": [
       "[['[SOLDADO] 2.º', '¿Quién es Segismundo?'],\n",
       " ['SEGISMUNDO', 'Yo.'],\n",
       " ['[SOLDADO] 2.º', 'Pues ¿cómo, atrevido y necio,\\ntú te hacías Segismundo?'],\n",
       " ['CLARÍN',\n",
       "  '¿Yo Segismundo? Eso niego.\\nQue vosotros fuistis quien 85\\nme segismundasteis; luego\\nvuestra ha sido solamente\\nnecedad y atrevimiento.'],\n",
       " ['[SOLDADO] 1.º',\n",
       "  'Gran príncipe Segismundo\\n(que las señas que traemos 90\\ntuyas son, aunque por fe\\nte aclamamos señor nuestro),\\ntu padre, el gran rey Basilio,\\ntemeroso que los cielos\\ncumplan un hado, que dice 95\\nque ha de verse a tus pies puesto,\\nvencido de ti, pretende\\nquitarte acción y derecho\\ny dársela a Astolfo, duque\\nde Moscovia. Para esto 100\\njuntó su corte, y el vulgo,\\npenetrando ya y sabiendo\\nque tiene rey natural,\\nno quiere que un extranjero\\nvenga a mandarle. Y así, 105\\nhaciendo noble desprecio\\nde la inclemencia del hado,\\nte ha buscado donde preso\\nvives, para que, valido\\nde tus armas y saliendo 110\\ndesta torre a restaurar\\n—163→\\ntu imperial corona y cetro,\\nse la quites a un tirano.\\nSal, pues; que en ese desierto\\nejército numeroso 115\\nde bandidos y plebeyos\\nte aclama. La libertad\\nte espera; oye sus acentos.'],\n",
       " ['VOCES', '¡Viva Segismundo, viva!']]"
      ]
     },
     "execution_count": 10,
     "metadata": {},
     "output_type": "execute_result"
    }
   ],
   "source": [
    "acto3[34:40]"
   ]
  },
  {
   "cell_type": "markdown",
   "id": "30eca922",
   "metadata": {},
   "source": [
    "Limpiamos las listas de listas, para ello defino una funcion que me elimine las listas vacia, los numeros, y las flechas que aparecen del escrapeo con selenium"
   ]
  },
  {
   "cell_type": "code",
   "execution_count": 12,
   "id": "012c25a7",
   "metadata": {},
   "outputs": [],
   "source": [
    "def limpia(lista):\n",
    "    '''\n",
    "    Funcion que limpia la lista procedente del escrapeo\n",
    "    Args: \n",
    "    Recibe lista sucia\n",
    "    Retrun:\n",
    "    Lista limpia para almacenar\n",
    "    '''\n",
    "    lista_limpia = []\n",
    "    for elemento in lista:\n",
    "        if elemento != [' ', ' ']:\n",
    "            lista_limpia.append(elemento)\n",
    "        else:\n",
    "            continue \n",
    "    for elemento in lista_limpia:\n",
    "        elemento[1] = re.sub(r'[0-9]+', '', elemento[1])\n",
    "        elemento[1] = re.sub(r'—→', '', elemento[1])\n",
    "    lista = lista_limpia\n",
    "    return lista_limpia"
   ]
  },
  {
   "cell_type": "markdown",
   "id": "2eb3e6a4",
   "metadata": {},
   "source": [
    "Aplico la funcion a las tres listas:"
   ]
  },
  {
   "cell_type": "code",
   "execution_count": 13,
   "id": "9d05fe55",
   "metadata": {},
   "outputs": [],
   "source": [
    "acto_1 = limpia(acto1)\n",
    "acto_2 = limpia(acto2)\n",
    "acto_3 = limpia(acto3)"
   ]
  },
  {
   "cell_type": "code",
   "execution_count": 14,
   "id": "7226ec16",
   "metadata": {},
   "outputs": [
    {
     "data": {
      "text/plain": [
       "[['ROSAURA',\n",
       "  'Hipogrifo violento,\\nque corriste parejas con el viento,\\n¿dónde rayo sin llama,\\n\\npájaro sin matiz, pez sin escama\\ny bruto sin instinto \\nnatural, al confuso laberinto\\nde esas desnudas peñas te desbocas,\\nte arrastras y despeñas?\\nQuédate en este monte,\\ndonde tengan los brutos su Faetonte; \\nque yo, sin más camino\\nque el que me dan las leyes del destino,\\nciega y desesperada,\\nbajaré la cabeza enmarañada\\ndeste monte eminente \\nque arruga el sol el ceño de la frente.\\n\\nMal, Polonia, recibes\\na un extranjero, pues con sangre escribes\\nsu entrada en tus arenas;\\ny apenas llega, cuando llega a penas. \\nBien mi suerte lo dice;\\nmas ¿dónde halló piedad un infelice?'],\n",
       " ['CLARÍN',\n",
       "  'Di dos, y no me dejes\\nen la posada a mí cuando te quejes;\\nque si dos hemos sido \\nlos que de nuestra patria hemos salido\\na probar aventuras,\\ndos los que entre desdichas y locuras\\naquí habemos llegado,\\ny dos los que del monte hemos rodado, \\n¿no es razón que yo sienta\\nmeterme en el pesar y no en la cuenta?'],\n",
       " ['ROSAURA',\n",
       "  'No quise darte parte\\nen mis quejas, Clarín, por no quitarte,\\nllorando tu desvelo, \\nel derecho que tienes al consuelo;\\nque tanto gusto había\\nen quejarse, un filósofo decía,\\n\\nque, a trueco de quejarse,\\nhabían las desdichas de buscarse. ']]"
      ]
     },
     "execution_count": 14,
     "metadata": {},
     "output_type": "execute_result"
    }
   ],
   "source": [
    "acto_1[:3]"
   ]
  },
  {
   "cell_type": "markdown",
   "id": "bef3d1fa",
   "metadata": {},
   "source": [
    "Genero dataframes para cada acto a partir de las listas "
   ]
  },
  {
   "cell_type": "code",
   "execution_count": 15,
   "id": "65afd493",
   "metadata": {},
   "outputs": [],
   "source": [
    "df_acto1 = pd.DataFrame(acto_1, columns = ['personaje','texto'])\n",
    "df_acto2 = pd.DataFrame(acto_2, columns = ['personaje','texto'])\n",
    "df_acto3 = pd.DataFrame(acto_3, columns = ['personaje','texto'])"
   ]
  },
  {
   "cell_type": "code",
   "execution_count": 16,
   "id": "e058b3f9",
   "metadata": {
    "scrolled": true
   },
   "outputs": [
    {
     "data": {
      "text/html": [
       "<div>\n",
       "<style scoped>\n",
       "    .dataframe tbody tr th:only-of-type {\n",
       "        vertical-align: middle;\n",
       "    }\n",
       "\n",
       "    .dataframe tbody tr th {\n",
       "        vertical-align: top;\n",
       "    }\n",
       "\n",
       "    .dataframe thead th {\n",
       "        text-align: right;\n",
       "    }\n",
       "</style>\n",
       "<table border=\"1\" class=\"dataframe\">\n",
       "  <thead>\n",
       "    <tr style=\"text-align: right;\">\n",
       "      <th></th>\n",
       "      <th>personaje</th>\n",
       "      <th>texto</th>\n",
       "    </tr>\n",
       "  </thead>\n",
       "  <tbody>\n",
       "    <tr>\n",
       "      <th>0</th>\n",
       "      <td>ROSAURA</td>\n",
       "      <td>Hipogrifo violento,\\nque corriste parejas con ...</td>\n",
       "    </tr>\n",
       "    <tr>\n",
       "      <th>1</th>\n",
       "      <td>CLARÍN</td>\n",
       "      <td>Di dos, y no me dejes\\nen la posada a mí cuand...</td>\n",
       "    </tr>\n",
       "    <tr>\n",
       "      <th>2</th>\n",
       "      <td>ROSAURA</td>\n",
       "      <td>No quise darte parte\\nen mis quejas, Clarín, p...</td>\n",
       "    </tr>\n",
       "    <tr>\n",
       "      <th>3</th>\n",
       "      <td>CLARÍN</td>\n",
       "      <td>El filósofo era\\nun borracho barbón. ¡Oh, quié...</td>\n",
       "    </tr>\n",
       "    <tr>\n",
       "      <th>4</th>\n",
       "      <td>ROSAURA</td>\n",
       "      <td>¡Quién ha visto sucesos tan extraños!\\nMas si ...</td>\n",
       "    </tr>\n",
       "    <tr>\n",
       "      <th>5</th>\n",
       "      <td>CLARÍN</td>\n",
       "      <td>O miente mi deseo,\\no termino las señas.</td>\n",
       "    </tr>\n",
       "    <tr>\n",
       "      <th>6</th>\n",
       "      <td>ROSAURA</td>\n",
       "      <td>Rústico nace entre desnudas peñas\\nun palacio ...</td>\n",
       "    </tr>\n",
       "    <tr>\n",
       "      <th>7</th>\n",
       "      <td>CLARÍN</td>\n",
       "      <td>Vámonos acercando; \\nque éste es mucho mirar, ...</td>\n",
       "    </tr>\n",
       "    <tr>\n",
       "      <th>8</th>\n",
       "      <td>ROSAURA</td>\n",
       "      <td>La puerta\\n(mejor diré funesta boca) abierta \\...</td>\n",
       "    </tr>\n",
       "    <tr>\n",
       "      <th>9</th>\n",
       "      <td>CLARÍN</td>\n",
       "      <td>¡Qué es lo que escucho, cielo!</td>\n",
       "    </tr>\n",
       "  </tbody>\n",
       "</table>\n",
       "</div>"
      ],
      "text/plain": [
       "  personaje                                              texto\n",
       "0   ROSAURA  Hipogrifo violento,\\nque corriste parejas con ...\n",
       "1    CLARÍN  Di dos, y no me dejes\\nen la posada a mí cuand...\n",
       "2   ROSAURA  No quise darte parte\\nen mis quejas, Clarín, p...\n",
       "3    CLARÍN  El filósofo era\\nun borracho barbón. ¡Oh, quié...\n",
       "4   ROSAURA  ¡Quién ha visto sucesos tan extraños!\\nMas si ...\n",
       "5    CLARÍN          O miente mi deseo,\\no termino las señas. \n",
       "6   ROSAURA  Rústico nace entre desnudas peñas\\nun palacio ...\n",
       "7    CLARÍN  Vámonos acercando; \\nque éste es mucho mirar, ...\n",
       "8   ROSAURA  La puerta\\n(mejor diré funesta boca) abierta \\...\n",
       "9    CLARÍN                     ¡Qué es lo que escucho, cielo!"
      ]
     },
     "execution_count": 16,
     "metadata": {},
     "output_type": "execute_result"
    }
   ],
   "source": [
    "df_acto1.head(10)"
   ]
  },
  {
   "cell_type": "markdown",
   "id": "3476b489",
   "metadata": {},
   "source": [
    "Creo funciones para eliminar strings vacio que me han quedado"
   ]
  },
  {
   "cell_type": "code",
   "execution_count": 18,
   "id": "5676cec5",
   "metadata": {},
   "outputs": [],
   "source": [
    "def eliminovacios(lista):\n",
    "    return list(filter(lambda x: x != \"\", lista))"
   ]
  },
  {
   "cell_type": "markdown",
   "id": "1db70312",
   "metadata": {},
   "source": [
    "Creo una nueva columna 'versos' a partir de 'texto' mediante lambda para dividir el texto a partis de los salto de linea , limpio esa columna de strins vacios con la funcion creada al efecto, y adiciono otra nueva columna con la suma del numnero de versos que dice cada personaje. "
   ]
  },
  {
   "cell_type": "code",
   "execution_count": 19,
   "id": "393213bc",
   "metadata": {},
   "outputs": [],
   "source": [
    "df_acto1['versos']= df_acto1.texto.apply([lambda x: x.split('\\n')])\n",
    "df_acto1['versos']= df_acto1.versos.apply(eliminovacios)\n",
    "df_acto1['n_versos']= df_acto1.versos.apply([lambda x: len(x)])\n",
    "\n",
    "df_acto2['versos']= df_acto2.texto.apply([lambda x: x.split('\\n')])\n",
    "df_acto2['versos']= df_acto2.versos.apply(eliminovacios)\n",
    "df_acto2['n_versos']= df_acto2.versos.apply([lambda x: len(x)])\n",
    "\n",
    "df_acto3['versos']= df_acto3.texto.apply([lambda x: x.split('\\n')])\n",
    "df_acto3['versos']= df_acto3.versos.apply(eliminovacios)\n",
    "df_acto3['n_versos']= df_acto3.versos.apply([lambda x: len(x)])\n",
    "\n"
   ]
  },
  {
   "cell_type": "code",
   "execution_count": 21,
   "id": "9dcd02c8",
   "metadata": {},
   "outputs": [
    {
     "data": {
      "text/html": [
       "<div>\n",
       "<style scoped>\n",
       "    .dataframe tbody tr th:only-of-type {\n",
       "        vertical-align: middle;\n",
       "    }\n",
       "\n",
       "    .dataframe tbody tr th {\n",
       "        vertical-align: top;\n",
       "    }\n",
       "\n",
       "    .dataframe thead th {\n",
       "        text-align: right;\n",
       "    }\n",
       "</style>\n",
       "<table border=\"1\" class=\"dataframe\">\n",
       "  <thead>\n",
       "    <tr style=\"text-align: right;\">\n",
       "      <th></th>\n",
       "      <th>personaje</th>\n",
       "      <th>texto</th>\n",
       "      <th>versos</th>\n",
       "      <th>n_versos</th>\n",
       "    </tr>\n",
       "  </thead>\n",
       "  <tbody>\n",
       "    <tr>\n",
       "      <th>102</th>\n",
       "      <td>ROSAURA</td>\n",
       "      <td>(Aparte. \\n¡Oh, si supiera quién es!) \\nPorqu...</td>\n",
       "      <td>[ (Aparte. , ¡Oh, si supiera quién es!) , Porq...</td>\n",
       "      <td>7</td>\n",
       "    </tr>\n",
       "    <tr>\n",
       "      <th>60</th>\n",
       "      <td>ESTRELLA</td>\n",
       "      <td>Si la voz se ha de medir \\ncon las accione...</td>\n",
       "      <td>[    Si la voz se ha de medir , con las accion...</td>\n",
       "      <td>15</td>\n",
       "    </tr>\n",
       "  </tbody>\n",
       "</table>\n",
       "</div>"
      ],
      "text/plain": [
       "    personaje                                              texto  \\\n",
       "102   ROSAURA   (Aparte. \\n¡Oh, si supiera quién es!) \\nPorqu...   \n",
       "60   ESTRELLA      Si la voz se ha de medir \\ncon las accione...   \n",
       "\n",
       "                                                versos  n_versos  \n",
       "102  [ (Aparte. , ¡Oh, si supiera quién es!) , Porq...         7  \n",
       "60   [    Si la voz se ha de medir , con las accion...        15  "
      ]
     },
     "execution_count": 21,
     "metadata": {},
     "output_type": "execute_result"
    }
   ],
   "source": [
    "df_acto1.sample(2)"
   ]
  },
  {
   "cell_type": "code",
   "execution_count": 22,
   "id": "b521c16a",
   "metadata": {},
   "outputs": [
    {
     "data": {
      "text/html": [
       "<div>\n",
       "<style scoped>\n",
       "    .dataframe tbody tr th:only-of-type {\n",
       "        vertical-align: middle;\n",
       "    }\n",
       "\n",
       "    .dataframe tbody tr th {\n",
       "        vertical-align: top;\n",
       "    }\n",
       "\n",
       "    .dataframe thead th {\n",
       "        text-align: right;\n",
       "    }\n",
       "</style>\n",
       "<table border=\"1\" class=\"dataframe\">\n",
       "  <thead>\n",
       "    <tr style=\"text-align: right;\">\n",
       "      <th></th>\n",
       "      <th>personaje</th>\n",
       "      <th>texto</th>\n",
       "      <th>versos</th>\n",
       "      <th>n_versos</th>\n",
       "    </tr>\n",
       "  </thead>\n",
       "  <tbody>\n",
       "    <tr>\n",
       "      <th>10</th>\n",
       "      <td>CLARÍN</td>\n",
       "      <td>Hay,\\nseñor, que tu gran clemencia\\ndispuesta ...</td>\n",
       "      <td>[Hay,, señor, que tu gran clemencia, dispuesta...</td>\n",
       "      <td>5</td>\n",
       "    </tr>\n",
       "    <tr>\n",
       "      <th>0</th>\n",
       "      <td>CLOTALDO</td>\n",
       "      <td>Todo, como lo mandaste,\\nqueda efetuado.</td>\n",
       "      <td>[    Todo, como lo mandaste,, queda efetuado.]</td>\n",
       "      <td>2</td>\n",
       "    </tr>\n",
       "  </tbody>\n",
       "</table>\n",
       "</div>"
      ],
      "text/plain": [
       "   personaje                                              texto  \\\n",
       "10    CLARÍN  Hay,\\nseñor, que tu gran clemencia\\ndispuesta ...   \n",
       "0   CLOTALDO           Todo, como lo mandaste,\\nqueda efetuado.   \n",
       "\n",
       "                                               versos  n_versos  \n",
       "10  [Hay,, señor, que tu gran clemencia, dispuesta...         5  \n",
       "0      [    Todo, como lo mandaste,, queda efetuado.]         2  "
      ]
     },
     "execution_count": 22,
     "metadata": {},
     "output_type": "execute_result"
    }
   ],
   "source": [
    "df_acto2.sample(2)"
   ]
  },
  {
   "cell_type": "code",
   "execution_count": 23,
   "id": "22af3b8f",
   "metadata": {},
   "outputs": [
    {
     "data": {
      "text/html": [
       "<div>\n",
       "<style scoped>\n",
       "    .dataframe tbody tr th:only-of-type {\n",
       "        vertical-align: middle;\n",
       "    }\n",
       "\n",
       "    .dataframe tbody tr th {\n",
       "        vertical-align: top;\n",
       "    }\n",
       "\n",
       "    .dataframe thead th {\n",
       "        text-align: right;\n",
       "    }\n",
       "</style>\n",
       "<table border=\"1\" class=\"dataframe\">\n",
       "  <thead>\n",
       "    <tr style=\"text-align: right;\">\n",
       "      <th></th>\n",
       "      <th>personaje</th>\n",
       "      <th>texto</th>\n",
       "      <th>versos</th>\n",
       "      <th>n_versos</th>\n",
       "    </tr>\n",
       "  </thead>\n",
       "  <tbody>\n",
       "    <tr>\n",
       "      <th>109</th>\n",
       "      <td>CLARÍN</td>\n",
       "      <td>En una torre, encerrado \\nbrujuleando mi muert...</td>\n",
       "      <td>[En una torre, encerrado , brujuleando mi muer...</td>\n",
       "      <td>7</td>\n",
       "    </tr>\n",
       "    <tr>\n",
       "      <th>129</th>\n",
       "      <td>SEGISMUNDO</td>\n",
       "      <td>En lo intrincado del monte,\\nentre sus espesas...</td>\n",
       "      <td>[En lo intrincado del monte,, entre sus espesa...</td>\n",
       "      <td>6</td>\n",
       "    </tr>\n",
       "  </tbody>\n",
       "</table>\n",
       "</div>"
      ],
      "text/plain": [
       "      personaje                                              texto  \\\n",
       "109      CLARÍN  En una torre, encerrado \\nbrujuleando mi muert...   \n",
       "129  SEGISMUNDO  En lo intrincado del monte,\\nentre sus espesas...   \n",
       "\n",
       "                                                versos  n_versos  \n",
       "109  [En una torre, encerrado , brujuleando mi muer...         7  \n",
       "129  [En lo intrincado del monte,, entre sus espesa...         6  "
      ]
     },
     "execution_count": 23,
     "metadata": {},
     "output_type": "execute_result"
    }
   ],
   "source": [
    "df_acto3.sample(2)"
   ]
  },
  {
   "cell_type": "markdown",
   "id": "14dd494f",
   "metadata": {},
   "source": [
    "Salvo los dataframes a csv "
   ]
  },
  {
   "cell_type": "code",
   "execution_count": 25,
   "id": "36d02d3a",
   "metadata": {},
   "outputs": [],
   "source": [
    "df_acto1.to_csv('data/df_acto1.csv', index = False)\n",
    "df_acto2.to_csv('data/df_acto2.csv', index = False)\n",
    "df_acto3.to_csv('data/df_acto3.csv', index = False)"
   ]
  },
  {
   "cell_type": "raw",
   "id": "0f4a1865",
   "metadata": {},
   "source": []
  }
 ],
 "metadata": {
  "kernelspec": {
   "display_name": "minimal_ds",
   "language": "python",
   "name": "minimal_ds"
  },
  "language_info": {
   "codemirror_mode": {
    "name": "ipython",
    "version": 3
   },
   "file_extension": ".py",
   "mimetype": "text/x-python",
   "name": "python",
   "nbconvert_exporter": "python",
   "pygments_lexer": "ipython3",
   "version": "3.10.0"
  },
  "toc": {
   "base_numbering": 1,
   "nav_menu": {},
   "number_sections": true,
   "sideBar": true,
   "skip_h1_title": false,
   "title_cell": "Table of Contents",
   "title_sidebar": "Contents",
   "toc_cell": false,
   "toc_position": {},
   "toc_section_display": true,
   "toc_window_display": false
  }
 },
 "nbformat": 4,
 "nbformat_minor": 5
}
